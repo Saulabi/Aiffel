{
 "cells": [
  {
   "cell_type": "markdown",
   "id": "b3a01373",
   "metadata": {},
   "source": [
    "# 작사가 인공지능 만들기"
   ]
  },
  {
   "cell_type": "markdown",
   "id": "1ca01e72",
   "metadata": {},
   "source": [
    "## 필요한 라이브러리 import 하기"
   ]
  },
  {
   "cell_type": "code",
   "execution_count": 28,
   "id": "6901278d",
   "metadata": {},
   "outputs": [],
   "source": [
    "import glob\n",
    "import os\n",
    "import re\n",
    "import numpy as np\n",
    "import tensorflow as tf\n",
    "import itertools"
   ]
  },
  {
   "cell_type": "markdown",
   "id": "9b8c7aa1",
   "metadata": {},
   "source": [
    "## 데이터 읽어오기"
   ]
  },
  {
   "cell_type": "code",
   "execution_count": 29,
   "id": "540e8fca",
   "metadata": {},
   "outputs": [
    {
     "name": "stdout",
     "output_type": "stream",
     "text": [
      "/aiffel/aiffel/Ex_4/data/lyrics/notorious_big.txt /aiffel/aiffel/Ex_4/data/lyrics/notorious-big.txt\n",
      "/aiffel/aiffel/Ex_4/data/lyrics/Kanye_West.txt /aiffel/aiffel/Ex_4/data/lyrics/kanye-west.txt\n",
      "175613\n"
     ]
    }
   ],
   "source": [
    "txt_file_path = os.getenv('HOME')+'/aiffel/Ex_4/data/lyrics/*'\n",
    "txt_list = glob.glob(txt_file_path)\n",
    "raw_corpus = []\n",
    "\n",
    "# 중복 파일 제거\n",
    "# https://aiffel.agit.io/g/300308438/wall/327378410\n",
    "def check_dup(file1, file2):\n",
    "    txt1 = []\n",
    "    txt2 = []\n",
    "    with open(file1, \"r\", encoding=\"utf-8\") as f:\n",
    "        raw = f.read().splitlines()\n",
    "        txt1.extend(raw)\n",
    "    with open(file2, \"r\", encoding=\"utf-8\") as f:\n",
    "        raw = f.read().splitlines()\n",
    "        txt2.extend(raw)\n",
    "    txt1 = set(txt1)\n",
    "    txt2 = set(txt2)\n",
    "    diff = txt1.difference(txt2)\n",
    "    return len(txt1) * 0.05 > len(diff)\n",
    "\n",
    "\n",
    "for a, b in itertools.combinations(txt_list, 2):\n",
    "    if check_dup(a, b):\n",
    "        print(a, b)\n",
    "        txt_list.remove(b)\n",
    "\n",
    "# 여러개의 txt 파일을 모두 읽어서 raw_corpus 에 담습니다.\n",
    "for txt_file in txt_list:\n",
    "    with open(txt_file, \"r\") as f:\n",
    "        raw = f.read().splitlines()\n",
    "        raw_corpus.extend(raw)\n",
    "\n",
    "print(len(raw_corpus))  # 중복 파일 제거 후 의 corpus -> 원본 데이터 크기 : 187088"
   ]
  },
  {
   "cell_type": "code",
   "execution_count": 30,
   "id": "de90b30a",
   "metadata": {},
   "outputs": [
    {
     "name": "stdout",
     "output_type": "stream",
     "text": [
      "[\"Now I've heard there was a secret chord\", 'That David played, and it pleased the Lord', \"But you don't really care for music, do you?\", 'It goes like this', 'The fourth, the fifth', 'The minor fall, the major lift', 'The baffled king composing Hallelujah Hallelujah', 'Hallelujah', 'Hallelujah']\n"
     ]
    }
   ],
   "source": [
    "print(raw_corpus[:9])  # 앞에서부터 10라인 출력."
   ]
  },
  {
   "cell_type": "markdown",
   "id": "8b58d9d3",
   "metadata": {},
   "source": [
    "## 데이터 정제하기"
   ]
  },
  {
   "cell_type": "code",
   "execution_count": 31,
   "id": "5fe3aa45",
   "metadata": {},
   "outputs": [
    {
     "name": "stdout",
     "output_type": "stream",
     "text": [
      "<start> this is sample sentence . <end>\n"
     ]
    }
   ],
   "source": [
    "def preprocess_sentence(sentence):\n",
    "    sentence = sentence.lower().strip()                    # 1.소문자로 바꾸고, 양쪽 공백을 지웁니다.\n",
    "    sentence = re.sub(r\"([?.!,¿])\", r\" \\1 \", sentence)    # 2. 특수문자 양쪽에 공백을 넣고.\n",
    "    sentence = re.sub(r'[\" \"]+', \" \", sentence)            # 3. 여러개의 공백은 하나의 공백으로 바꿉니다.\n",
    "    sentence = re.sub(r\"[^a-zA-Z?.!,¿]+\", \" \", sentence)  # 4. a-zA-Z?.!,¿가 아닌 모든 문자를 하나의 공백으로 바꿉니다.\n",
    "    sentence = sentence.strip()                            # 5. 다시 양쪽 공백을 지웁니다.\n",
    "    sentence = '<start> ' + sentence + ' <end>'            # 6. 문장 시작에는 <start>, 끝에는 <end>를 추가합니다.\n",
    "    \n",
    "    return sentence\n",
    "\n",
    "print(preprocess_sentence(\"This @_is ;;;sample        sentence.\"))  # 이 문장이 어떻게 필터링되는지 확인해 보세요."
   ]
  },
  {
   "cell_type": "code",
   "execution_count": 32,
   "id": "d71f5ac6",
   "metadata": {},
   "outputs": [
    {
     "name": "stdout",
     "output_type": "stream",
     "text": [
      "['<start> now i ve heard there was a secret chord <end>', '<start> that david played , and it pleased the lord <end>', '<start> but you don t really care for music , do you ? <end>', '<start> it goes like this <end>', '<start> the fourth , the fifth <end>', '<start> the minor fall , the major lift <end>', '<start> the baffled king composing hallelujah hallelujah <end>', '<start> hallelujah <end>', '<start> hallelujah <end>', '<start> hallelujah your faith was strong but you needed proof <end>']\n",
      "\n",
      "140658\n"
     ]
    }
   ],
   "source": [
    "# 여기에 정제된 문장을 모을겁니다.\n",
    "corpus = []\n",
    "\n",
    "for sentence in raw_corpus:\n",
    "    # 우리가 원하지 않는 문장은 건너뜁니다.\n",
    "    if len(sentence) == 0 : continue\n",
    "    if sentence[-1] == \":\" : continue\n",
    "    if sentence[0] == \"[\" : continue\n",
    "    if sentence.count(\" \") > 10 : continue\n",
    "    \n",
    "    # 정제를 하고 담아주세요\n",
    "    preprocessed_sentence = preprocess_sentence(sentence)\n",
    "    corpus.append(preprocessed_sentence)\n",
    "        \n",
    "# 정제된 결과를 10개만 확인하기.\n",
    "print(corpus[:10])\n",
    "# 데이터 확인\n",
    "print()\n",
    "print(len(corpus))"
   ]
  },
  {
   "cell_type": "code",
   "execution_count": 33,
   "id": "09a1e18a",
   "metadata": {},
   "outputs": [
    {
     "name": "stdout",
     "output_type": "stream",
     "text": [
      "[[   2   53    5 ...    0    0    0]\n",
      " [   2   17 3054 ...    0    0    0]\n",
      " [   2   36    7 ...   39    3    0]\n",
      " ...\n",
      " [   2    5  117 ...    0    0    0]\n",
      " [   2  275  194 ...   12    3    0]\n",
      " [   2    7   40 ...    0    0    0]] <keras_preprocessing.text.Tokenizer object at 0x7fb9d8489550>\n"
     ]
    }
   ],
   "source": [
    "# 토큰화 할 때 텐서플로우의 Tokenizer와 pad_sequences를 사용합니다.\n",
    "def tokenize(corpus):\n",
    "    tokenizer = tf.keras.preprocessing.text.Tokenizer(\n",
    "        num_words=20000,   # 20000단어를 기억할 수 있는 tokenizer를 만들겁니다.\n",
    "        filters=' ',       # 우리는 이미 문장을 정제했으니 filters가 필요없어요.\n",
    "        oov_token=\"<unk>\"  # 20000단어에 포함되지 못한 단어는 '<unk>'로 바꿀거에요.\n",
    "    )\n",
    "    tokenizer.fit_on_texts(corpus)  # corpus를 이용해 tokenizer 내부의 단어장을 완성합니다.\n",
    "    \n",
    "    # 이후 tokenizer를 활용하여 모델에 입력할 데이터셋을 구축하게 됩니다.\n",
    "    tensor = tokenizer.texts_to_sequences(corpus)  # 준비한 tokenizer를 이용해 corpus를 Tensor로 변환합니다.\n",
    "    \n",
    "    # 입력 데이터의 시퀀스 길이를 일정하게 맞춰줍니다.\n",
    "    # 만약 시퀀스가 짧다면 문장 뒤에 패딩을 붙여 길이를 맞춰줍니다.\n",
    "    # 문장 앞에 패딩을 붙여 길이를 맞추고 싶다면 padding='pre'를 사용합니다.\n",
    "    tensor = tf.keras.preprocessing.sequence.pad_sequences(tensor, padding='post', maxlen=15)  \n",
    "    \n",
    "    print(tensor,tokenizer)\n",
    "    return tensor, tokenizer\n",
    "\n",
    "tensor, tokenizer = tokenize(corpus)"
   ]
  },
  {
   "cell_type": "code",
   "execution_count": 34,
   "id": "07948db9",
   "metadata": {},
   "outputs": [
    {
     "name": "stdout",
     "output_type": "stream",
     "text": [
      "(140658, 15)\n"
     ]
    }
   ],
   "source": [
    "print(tensor.shape)"
   ]
  },
  {
   "cell_type": "code",
   "execution_count": 35,
   "id": "b2f52133",
   "metadata": {},
   "outputs": [
    {
     "name": "stdout",
     "output_type": "stream",
     "text": [
      "[[   2   53    5   86  325   62   59    9  938 5667]\n",
      " [   2   17 3054  989    4    8   11 5668    6  334]\n",
      " [   2   36    7   30   14  159  283   28  307    4]]\n"
     ]
    }
   ],
   "source": [
    "print(tensor[:3, :10])  # 텐서 데이터의 3번째 행, 10번째 열."
   ]
  },
  {
   "cell_type": "code",
   "execution_count": 36,
   "id": "9efe921a",
   "metadata": {},
   "outputs": [
    {
     "name": "stdout",
     "output_type": "stream",
     "text": [
      "[[   2   53    5   86  325   62   59    9  938 5667    3    0    0    0\n",
      "     0]\n",
      " [   2   17 3054  989    4    8   11 5668    6  334    3    0    0    0\n",
      "     0]\n",
      " [   2   36    7   30   14  159  283   28  307    4   47    7   39    3\n",
      "     0]]\n"
     ]
    }
   ],
   "source": [
    "print(tensor[:3, :])"
   ]
  },
  {
   "cell_type": "code",
   "execution_count": 37,
   "id": "582207c5",
   "metadata": {},
   "outputs": [
    {
     "name": "stdout",
     "output_type": "stream",
     "text": [
      "[[    2    53     5    86   325    62    59     9   938  5667     3     0\n",
      "      0     0     0]\n",
      " [    2    17  3054   989     4     8    11  5668     6   334     3     0\n",
      "      0     0     0]\n",
      " [    2    36     7    30    14   159   283    28   307     4    47     7\n",
      "     39     3     0]\n",
      " [    2    11   308    25    43     3     0     0     0     0     0     0\n",
      "      0     0     0]\n",
      " [    2     6  4049     4     6  2122     3     0     0     0     0     0\n",
      "      0     0     0]\n",
      " [    2     6  6193   285     4     6  1120   718     3     0     0     0\n",
      "      0     0     0]\n",
      " [    2     6  7808   508 11283   889   889     3     0     0     0     0\n",
      "      0     0     0]\n",
      " [    2   889     3     0     0     0     0     0     0     0     0     0\n",
      "      0     0     0]\n",
      " [    2   889     3     0     0     0     0     0     0     0     0     0\n",
      "      0     0     0]\n",
      " [    2   889    21   812    59   551    36     7   950  1616     3     0\n",
      "      0     0     0]]\n"
     ]
    }
   ],
   "source": [
    "print(tensor[:10, :])"
   ]
  },
  {
   "cell_type": "code",
   "execution_count": 38,
   "id": "85a49f1a",
   "metadata": {},
   "outputs": [
    {
     "name": "stdout",
     "output_type": "stream",
     "text": [
      "1 : <unk>\n",
      "2 : <start>\n",
      "3 : <end>\n",
      "4 : ,\n",
      "5 : i\n",
      "6 : the\n",
      "7 : you\n",
      "8 : and\n",
      "9 : a\n",
      "10 : to\n"
     ]
    }
   ],
   "source": [
    "# 텐서 데이터는 모두 정수 -> tokenizer에 구축된 단어 사전의 인덱스.\n",
    "for idx in tokenizer.index_word:\n",
    "    print(idx, \":\", tokenizer.index_word[idx])\n",
    "\n",
    "    if idx >= 10: break"
   ]
  },
  {
   "cell_type": "code",
   "execution_count": 39,
   "id": "4e4535c8",
   "metadata": {},
   "outputs": [
    {
     "name": "stdout",
     "output_type": "stream",
     "text": [
      "15\n"
     ]
    }
   ],
   "source": [
    "print(len(tensor[0]))"
   ]
  },
  {
   "cell_type": "code",
   "execution_count": 40,
   "id": "4ad34ee9",
   "metadata": {},
   "outputs": [
    {
     "name": "stdout",
     "output_type": "stream",
     "text": [
      "(140658, 15)\n",
      "[   2   53    5   86  325   62   59    9  938 5667    3    0    0    0]\n",
      "[  53    5   86  325   62   59    9  938 5667    3    0    0    0    0]\n"
     ]
    }
   ],
   "source": [
    "# tensor에서 마지막 토큰을 잘라내서 소스 문장을 생성합니다.\n",
    "# 마지막 토큰은 <end>가 아니라 <pad>일 가능성이 높습니다.\n",
    "short_tensor = np.array([x for i, x in enumerate(tensor) if x[-1]==0 or x[-1]==3])  # 따라서 마지막 토큰이 0이거나 3인것만 선택.\n",
    "print(short_tensor.shape)\n",
    "src_input = short_tensor[:, :-1]  \n",
    "\n",
    "# tensor에서 <start>를 잘라내서 타겟 문장을 생성합니다.\n",
    "tgt_input = tensor[:, 1:]    \n",
    "    \n",
    "print(src_input[0])\n",
    "print(tgt_input[0])"
   ]
  },
  {
   "cell_type": "markdown",
   "id": "355e3c14",
   "metadata": {},
   "source": [
    "## 평가 데이터셋 분리하기"
   ]
  },
  {
   "cell_type": "code",
   "execution_count": 41,
   "id": "30691749",
   "metadata": {},
   "outputs": [
    {
     "name": "stdout",
     "output_type": "stream",
     "text": [
      "112526 28132\n",
      "(112526, 14)\n",
      "(112526, 14)\n"
     ]
    }
   ],
   "source": [
    "from sklearn.model_selection import train_test_split\n",
    "\n",
    "enc_train, enc_val, dec_train, dec_val = train_test_split(src_input,\n",
    "                                                         tgt_input,\n",
    "                                                         test_size=0.2,\n",
    "                                                         shuffle=True,\n",
    "                                                         random_state=42)\n",
    "print(len(enc_train), len(enc_val))\n",
    "print(enc_train.shape)\n",
    "print(dec_train.shape)"
   ]
  },
  {
   "cell_type": "markdown",
   "id": "db15aa00",
   "metadata": {},
   "source": [
    "## 훈련데이터셋 생성하기"
   ]
  },
  {
   "cell_type": "code",
   "execution_count": 42,
   "id": "0143a3a1",
   "metadata": {},
   "outputs": [
    {
     "data": {
      "text/plain": [
       "<BatchDataset shapes: ((256, 14), (256, 14)), types: (tf.int32, tf.int32)>"
      ]
     },
     "execution_count": 42,
     "metadata": {},
     "output_type": "execute_result"
    }
   ],
   "source": [
    "BUFFER_SIZE = len(enc_train)\n",
    "BATCH_SIZE = 256\n",
    "steps_per_epoch = len(enc_train) // BATCH_SIZE\n",
    "\n",
    "# tokenizer가 구축한 단어사전 내 20000개와, 여기 포함되지 않은 0:<pad>를 포함하여 20001개.\n",
    "VOCAB_SIZE = tokenizer.num_words + 1   \n",
    "\n",
    "# 준비한 데이터 소스로부터 데이터셋을 만듭니다.\n",
    "dataset = tf.data.Dataset.from_tensor_slices((enc_train, dec_train))\n",
    "dataset = dataset.shuffle(BUFFER_SIZE)\n",
    "dataset = dataset.batch(BATCH_SIZE, drop_remainder=True)\n",
    "dataset"
   ]
  },
  {
   "cell_type": "markdown",
   "id": "4bc7c499",
   "metadata": {},
   "source": [
    "## TextGenerator 모델 생성하기"
   ]
  },
  {
   "cell_type": "code",
   "execution_count": 43,
   "id": "4904c08f",
   "metadata": {},
   "outputs": [],
   "source": [
    "class TextGenerator(tf.keras.Model):\n",
    "    def __init__(self, vocab_size, embedding_size, hidden_size):\n",
    "        super().__init__()\n",
    "        \n",
    "        self.embedding = tf.keras.layers.Embedding(vocab_size, embedding_size)\n",
    "        self.rnn_1 = tf.keras.layers.LSTM(hidden_size, return_sequences=True)\n",
    "        self.rnn_2 = tf.keras.layers.LSTM(hidden_size, return_sequences=True)\n",
    "        self.linear = tf.keras.layers.Dense(vocab_size)\n",
    "        \n",
    "    def call(self, x):\n",
    "        out = self.embedding(x)\n",
    "        out = self.rnn_1(out)\n",
    "        out = self.rnn_2(out)\n",
    "        out = self.linear(out)\n",
    "        \n",
    "        return out\n",
    "    \n",
    "embedding_size = 256\n",
    "hidden_size = 1024\n",
    "model = TextGenerator(tokenizer.num_words + 1, embedding_size , hidden_size)"
   ]
  },
  {
   "cell_type": "code",
   "execution_count": 44,
   "id": "17b37a22",
   "metadata": {},
   "outputs": [
    {
     "data": {
      "text/plain": [
       "<tf.Tensor: shape=(256, 14, 20001), dtype=float32, numpy=\n",
       "array([[[-1.02550883e-04, -2.63967348e-04,  8.98487851e-05, ...,\n",
       "         -2.02919240e-04,  1.16412222e-04,  3.79250341e-05],\n",
       "        [-4.89040278e-04, -1.99378221e-04, -1.39098440e-04, ...,\n",
       "         -5.41711168e-04,  3.28094815e-04, -2.63815127e-05],\n",
       "        [-1.03702839e-03,  2.73560745e-05, -5.55323844e-04, ...,\n",
       "         -9.03519744e-04,  5.70681412e-04, -1.55132904e-04],\n",
       "        ...,\n",
       "        [-2.80114851e-04, -4.05031096e-05, -1.45437277e-03, ...,\n",
       "         -1.34142954e-03, -1.79814422e-04,  1.90009800e-04],\n",
       "        [-1.06738415e-04, -1.17518990e-04, -1.51244283e-03, ...,\n",
       "         -1.51242968e-03, -2.73846847e-04,  3.26090172e-04],\n",
       "        [ 3.17694285e-05, -1.84139775e-04, -1.58108643e-03, ...,\n",
       "         -1.65881403e-03, -3.39443359e-04,  4.27707360e-04]],\n",
       "\n",
       "       [[-1.02550883e-04, -2.63967348e-04,  8.98487851e-05, ...,\n",
       "         -2.02919240e-04,  1.16412222e-04,  3.79250341e-05],\n",
       "        [-2.10944097e-04, -2.77278334e-04,  1.07436223e-04, ...,\n",
       "         -5.95640915e-04,  2.56870582e-04,  2.12310362e-04],\n",
       "        [-1.03105478e-04, -2.92409823e-04, -4.98380796e-05, ...,\n",
       "         -9.26865847e-04,  3.76646029e-04,  4.35927097e-04],\n",
       "        ...,\n",
       "        [ 4.76850604e-04, -1.44268124e-04, -5.85269998e-04, ...,\n",
       "         -1.69972971e-03, -6.16338453e-04,  4.75859066e-04],\n",
       "        [ 4.90200764e-04, -1.18865908e-04, -6.95216120e-04, ...,\n",
       "         -1.78906252e-03, -7.28460669e-04,  5.62219589e-04],\n",
       "        [ 5.10783400e-04, -1.17485164e-04, -8.13100196e-04, ...,\n",
       "         -1.87115034e-03, -8.08391836e-04,  6.43192907e-04]],\n",
       "\n",
       "       [[-1.02550883e-04, -2.63967348e-04,  8.98487851e-05, ...,\n",
       "         -2.02919240e-04,  1.16412222e-04,  3.79250341e-05],\n",
       "        [-2.41194750e-04, -2.70286400e-04,  1.27371663e-04, ...,\n",
       "         -3.35011282e-05,  1.48457606e-04,  1.29782638e-04],\n",
       "        [-2.56837287e-04, -4.31140768e-04,  3.61219951e-04, ...,\n",
       "          1.15013281e-04,  9.89006803e-05,  2.20596485e-05],\n",
       "        ...,\n",
       "        [ 9.68777676e-05, -1.22514815e-04, -5.34548715e-04, ...,\n",
       "         -9.91716865e-04, -4.07824933e-04,  2.97038525e-04],\n",
       "        [ 2.12177532e-04, -1.45385944e-04, -6.94654766e-04, ...,\n",
       "         -1.21014996e-03, -4.43033088e-04,  3.97824246e-04],\n",
       "        [ 2.99655891e-04, -1.71896230e-04, -8.59105494e-04, ...,\n",
       "         -1.39204448e-03, -4.58846771e-04,  4.72469575e-04]],\n",
       "\n",
       "       ...,\n",
       "\n",
       "       [[-1.02550883e-04, -2.63967348e-04,  8.98487851e-05, ...,\n",
       "         -2.02919240e-04,  1.16412222e-04,  3.79250341e-05],\n",
       "        [-2.23523239e-04, -4.17060946e-04,  2.68419884e-04, ...,\n",
       "         -4.62256605e-04,  6.54441101e-05, -3.07346490e-05],\n",
       "        [-1.89381695e-04, -2.58522894e-04,  3.64707521e-04, ...,\n",
       "         -4.85200464e-04,  3.94954201e-04, -1.68061102e-04],\n",
       "        ...,\n",
       "        [ 5.81406639e-04, -4.89792204e-04, -4.64559969e-04, ...,\n",
       "         -7.94276304e-04, -5.86328715e-05, -4.33517649e-04],\n",
       "        [ 6.69767905e-04, -4.54370427e-04, -6.07622962e-04, ...,\n",
       "         -9.84414131e-04, -1.66778715e-04, -1.89771745e-04],\n",
       "        [ 7.39028910e-04, -4.27087827e-04, -7.54320587e-04, ...,\n",
       "         -1.16344693e-03, -2.57976295e-04,  2.94838610e-05]],\n",
       "\n",
       "       [[-1.02550883e-04, -2.63967348e-04,  8.98487851e-05, ...,\n",
       "         -2.02919240e-04,  1.16412222e-04,  3.79250341e-05],\n",
       "        [-1.43657788e-04, -5.08196681e-05,  2.63198090e-05, ...,\n",
       "         -3.90139932e-04,  1.48468738e-04,  1.30341286e-04],\n",
       "        [-1.45926155e-04,  8.24286108e-05, -6.82540121e-05, ...,\n",
       "         -4.55987203e-04,  2.93717836e-04,  8.61547596e-05],\n",
       "        ...,\n",
       "        [ 2.18310641e-04,  2.02255920e-04, -4.94489330e-04, ...,\n",
       "         -1.72553794e-03, -8.94480152e-04,  4.57574293e-04],\n",
       "        [ 3.06908507e-04,  1.85699711e-04, -7.17032119e-04, ...,\n",
       "         -1.87695841e-03, -9.22492181e-04,  5.76708582e-04],\n",
       "        [ 3.80761776e-04,  1.50167252e-04, -9.21428029e-04, ...,\n",
       "         -1.99581659e-03, -9.16866411e-04,  6.64855470e-04]],\n",
       "\n",
       "       [[-1.02550883e-04, -2.63967348e-04,  8.98487851e-05, ...,\n",
       "         -2.02919240e-04,  1.16412222e-04,  3.79250341e-05],\n",
       "        [-2.23523239e-04, -4.17060946e-04,  2.68419884e-04, ...,\n",
       "         -4.62256605e-04,  6.54441101e-05, -3.07346490e-05],\n",
       "        [-2.54127634e-04, -4.15030809e-04,  2.21877912e-04, ...,\n",
       "         -6.76599913e-04,  2.01123359e-04, -1.89313523e-05],\n",
       "        ...,\n",
       "        [ 6.28972310e-04, -2.20562913e-04, -9.29077505e-04, ...,\n",
       "         -1.81788579e-03, -2.79474014e-04,  5.03193296e-04],\n",
       "        [ 6.80762343e-04, -2.25345677e-04, -1.09976006e-03, ...,\n",
       "         -1.93417573e-03, -4.16034600e-04,  6.00534840e-04],\n",
       "        [ 7.11579225e-04, -2.37913962e-04, -1.26261916e-03, ...,\n",
       "         -2.02423637e-03, -5.15565567e-04,  6.63172512e-04]]],\n",
       "      dtype=float32)>"
      ]
     },
     "execution_count": 44,
     "metadata": {},
     "output_type": "execute_result"
    }
   ],
   "source": [
    "# 데이터셋에서 데이터 한 배치만 불러오는 방법입니다.\n",
    "for src_sample, tgt_sample in dataset.take(1): break\n",
    "\n",
    "# 한 배치만 불러온 데이터를 모델에 넣어봅니다.\n",
    "model(src_sample)"
   ]
  },
  {
   "cell_type": "code",
   "execution_count": 45,
   "id": "6acc5719",
   "metadata": {},
   "outputs": [
    {
     "name": "stdout",
     "output_type": "stream",
     "text": [
      "Model: \"text_generator_1\"\n",
      "_________________________________________________________________\n",
      "Layer (type)                 Output Shape              Param #   \n",
      "=================================================================\n",
      "embedding_1 (Embedding)      multiple                  5120256   \n",
      "_________________________________________________________________\n",
      "lstm_2 (LSTM)                multiple                  5246976   \n",
      "_________________________________________________________________\n",
      "lstm_3 (LSTM)                multiple                  8392704   \n",
      "_________________________________________________________________\n",
      "dense_1 (Dense)              multiple                  20501025  \n",
      "=================================================================\n",
      "Total params: 39,260,961\n",
      "Trainable params: 39,260,961\n",
      "Non-trainable params: 0\n",
      "_________________________________________________________________\n"
     ]
    }
   ],
   "source": [
    "model.summary()"
   ]
  },
  {
   "cell_type": "markdown",
   "id": "3f435aff",
   "metadata": {},
   "source": [
    "## 모델 훈련하기"
   ]
  },
  {
   "cell_type": "code",
   "execution_count": 46,
   "id": "b33b110f",
   "metadata": {},
   "outputs": [
    {
     "name": "stdout",
     "output_type": "stream",
     "text": [
      "Epoch 1/10\n",
      "439/439 [==============================] - 101s 226ms/step - loss: 3.5632\n",
      "Epoch 2/10\n",
      "439/439 [==============================] - 100s 227ms/step - loss: 3.0338\n",
      "Epoch 3/10\n",
      "439/439 [==============================] - 100s 228ms/step - loss: 2.8775\n",
      "Epoch 4/10\n",
      "439/439 [==============================] - 100s 228ms/step - loss: 2.7639\n",
      "Epoch 5/10\n",
      "439/439 [==============================] - 100s 227ms/step - loss: 2.6674\n",
      "Epoch 6/10\n",
      "439/439 [==============================] - 100s 227ms/step - loss: 2.5814\n",
      "Epoch 7/10\n",
      "439/439 [==============================] - 100s 228ms/step - loss: 2.5027\n",
      "Epoch 8/10\n",
      "439/439 [==============================] - 100s 227ms/step - loss: 2.4296\n",
      "Epoch 9/10\n",
      "439/439 [==============================] - 100s 228ms/step - loss: 2.3615\n",
      "Epoch 10/10\n",
      "439/439 [==============================] - 100s 227ms/step - loss: 2.2975\n"
     ]
    },
    {
     "data": {
      "text/plain": [
       "<keras.callbacks.History at 0x7fba383399d0>"
      ]
     },
     "execution_count": 46,
     "metadata": {},
     "output_type": "execute_result"
    }
   ],
   "source": [
    "optimizer = tf.keras.optimizers.Adam()\n",
    "loss = tf.keras.losses.SparseCategoricalCrossentropy(\n",
    "    from_logits=True,\n",
    "    reduction='none'\n",
    ")\n",
    "\n",
    "model.compile(loss=loss, optimizer=optimizer)\n",
    "model.fit(dataset, epochs=10)"
   ]
  },
  {
   "cell_type": "markdown",
   "id": "3dae6607",
   "metadata": {},
   "source": [
    "## 추가 재학습"
   ]
  },
  {
   "cell_type": "code",
   "execution_count": 47,
   "id": "fd53d295",
   "metadata": {},
   "outputs": [
    {
     "data": {
      "text/plain": [
       "<BatchDataset shapes: ((128, 14), (128, 14)), types: (tf.int32, tf.int32)>"
      ]
     },
     "execution_count": 47,
     "metadata": {},
     "output_type": "execute_result"
    }
   ],
   "source": [
    "BUFFER_SIZE = len(enc_train)\n",
    "BATCH_SIZE = 128\n",
    "steps_per_epoch = len(enc_train) // BATCH_SIZE\n",
    "\n",
    "# tokenizer가 구축한 단어사전 내 20000개와, 여기 포함되지 않은 0:<pad>를 포함하여 20001개.\n",
    "VOCAB_SIZE = tokenizer.num_words + 1   \n",
    "\n",
    "dataset_128 = tf.data.Dataset.from_tensor_slices((enc_train, dec_train))\n",
    "dataset_128 = dataset_128.shuffle(BUFFER_SIZE)\n",
    "dataset_128 = dataset_128.batch(BATCH_SIZE, drop_remainder=True)\n",
    "dataset_128"
   ]
  },
  {
   "cell_type": "code",
   "execution_count": 48,
   "id": "9aa635d1",
   "metadata": {},
   "outputs": [
    {
     "name": "stdout",
     "output_type": "stream",
     "text": [
      "Epoch 1/10\n",
      "879/879 [==============================] - 111s 122ms/step - loss: 3.2210\n",
      "Epoch 2/10\n",
      "879/879 [==============================] - 107s 122ms/step - loss: 2.7787\n",
      "Epoch 3/10\n",
      "879/879 [==============================] - 107s 122ms/step - loss: 2.5849\n",
      "Epoch 4/10\n",
      "879/879 [==============================] - 107s 122ms/step - loss: 2.4082\n",
      "Epoch 5/10\n",
      "879/879 [==============================] - 107s 122ms/step - loss: 2.2427\n",
      "Epoch 6/10\n",
      "879/879 [==============================] - 107s 122ms/step - loss: 2.0925\n",
      "Epoch 7/10\n",
      "879/879 [==============================] - 107s 122ms/step - loss: 1.9581\n",
      "Epoch 8/10\n",
      "879/879 [==============================] - 107s 122ms/step - loss: 1.8369\n",
      "Epoch 9/10\n",
      "879/879 [==============================] - 107s 122ms/step - loss: 1.7274\n",
      "Epoch 10/10\n",
      "879/879 [==============================] - 107s 122ms/step - loss: 1.6263\n"
     ]
    },
    {
     "data": {
      "text/plain": [
       "<keras.callbacks.History at 0x7fbb0c385fd0>"
      ]
     },
     "execution_count": 48,
     "metadata": {},
     "output_type": "execute_result"
    }
   ],
   "source": [
    "embedding_size = 256 + 128\n",
    "hidden_size = 1024\n",
    "model = TextGenerator(tokenizer.num_words + 1, embedding_size , hidden_size)\n",
    "\n",
    "model.compile(loss=loss, optimizer=optimizer)\n",
    "model.fit(dataset_128, epochs=10)"
   ]
  },
  {
   "cell_type": "markdown",
   "id": "11f74b4f",
   "metadata": {},
   "source": [
    "## 학습 가중치 저장하기"
   ]
  },
  {
   "cell_type": "code",
   "execution_count": 49,
   "id": "701709c3",
   "metadata": {},
   "outputs": [],
   "source": [
    "model.save_weights(os.getenv('HOME') + '/aiffel/Ex_4/my_checkpoint')"
   ]
  },
  {
   "cell_type": "code",
   "execution_count": 51,
   "id": "cb00126c",
   "metadata": {},
   "outputs": [
    {
     "data": {
      "text/plain": [
       "<tensorflow.python.training.tracking.util.CheckpointLoadStatus at 0x7fbb1485b160>"
      ]
     },
     "execution_count": 51,
     "metadata": {},
     "output_type": "execute_result"
    }
   ],
   "source": [
    "embedding_size = 256 + 128\n",
    "hidden_size = 1024\n",
    "model = TextGenerator(tokenizer.num_words + 1, embedding_size , hidden_size)\n",
    "model.load_weights(os.getenv('HOME') + '/aiffel/Ex_4/my_checkpoint')"
   ]
  },
  {
   "cell_type": "markdown",
   "id": "cc7f8567",
   "metadata": {},
   "source": [
    "## 평가 데이터셋 생성하기"
   ]
  },
  {
   "cell_type": "code",
   "execution_count": 54,
   "id": "570b8849",
   "metadata": {},
   "outputs": [
    {
     "data": {
      "text/plain": [
       "<BatchDataset shapes: ((384, 14), (384, 14)), types: (tf.int32, tf.int32)>"
      ]
     },
     "execution_count": 54,
     "metadata": {},
     "output_type": "execute_result"
    }
   ],
   "source": [
    "BUFFER_SIZE = len(enc_val)\n",
    "BATCH_SIZE = 256 + 128\n",
    "steps_per_epoch = len(enc_val) // BATCH_SIZE\n",
    "\n",
    "VOCAB_SIZE = tokenizer.num_words + 1    # tokenizer가 구축한 단어사전 내 20000개와, 여기 포함되지 않은 0:<pad>를 포함하여 20001개\n",
    "\n",
    "val_dataset = tf.data.Dataset.from_tensor_slices((enc_val, dec_val)).shuffle(BUFFER_SIZE)\n",
    "val_dataset = val_dataset.batch(BATCH_SIZE, drop_remainder=True)\n",
    "val_dataset"
   ]
  },
  {
   "cell_type": "markdown",
   "id": "618206b7",
   "metadata": {},
   "source": [
    "## 평가하기"
   ]
  },
  {
   "cell_type": "code",
   "execution_count": 55,
   "id": "4f50d92b",
   "metadata": {},
   "outputs": [
    {
     "name": "stdout",
     "output_type": "stream",
     "text": [
      "73/73 [==============================] - 10s 131ms/step - loss: 2.5361\n"
     ]
    },
    {
     "data": {
      "text/plain": [
       "2.5361459255218506"
      ]
     },
     "execution_count": 55,
     "metadata": {},
     "output_type": "execute_result"
    }
   ],
   "source": [
    "lyricist = model\n",
    "lyricist.compile(loss=loss, optimizer=optimizer)\n",
    "lyricist.evaluate(val_dataset)"
   ]
  },
  {
   "cell_type": "markdown",
   "id": "c83b68fe",
   "metadata": {},
   "source": [
    "## 문장 생성 해보기"
   ]
  },
  {
   "cell_type": "code",
   "execution_count": 56,
   "id": "61cdacb0",
   "metadata": {},
   "outputs": [],
   "source": [
    "def generate_text(model, tokenizer, init_sentence=\"<start>\", max_len=15):\n",
    "    # 테스트를 위해서 입력받은 init_sentence도 텐서로 변환합니다\n",
    "    test_input = tokenizer.texts_to_sequences([init_sentence])\n",
    "    test_tensor = tf.convert_to_tensor(test_input, dtype=tf.int64)\n",
    "    end_token = tokenizer.word_index[\"<end>\"]\n",
    "\n",
    "    # 단어 하나씩 예측해 문장을 만듭니다\n",
    "    #    1. 입력받은 문장의 텐서를 입력합니다\n",
    "    #    2. 예측된 값 중 가장 높은 확률인 word index를 뽑아냅니다\n",
    "    #    3. 2에서 예측된 word index를 문장 뒤에 붙입니다\n",
    "    #    4. 모델이 <end>를 예측했거나, max_len에 도달했다면 문장 생성을 마칩니다\n",
    "    while True:\n",
    "        # 1\n",
    "        predict = model(test_tensor) \n",
    "        # 2\n",
    "        predict_word = tf.argmax(tf.nn.softmax(predict, axis=-1), axis=-1)[:, -1] \n",
    "        # 3 \n",
    "        test_tensor = tf.concat([test_tensor, tf.expand_dims(predict_word, axis=0)], axis=-1)\n",
    "        # 4\n",
    "        if predict_word.numpy()[0] == end_token: break\n",
    "        if test_tensor.shape[1] >= max_len: break\n",
    "\n",
    "    generated = \"\"\n",
    "    # tokenizer를 이용해 word index를 단어로 하나씩 변환합니다 \n",
    "    for word_index in test_tensor[0].numpy():\n",
    "        generated += tokenizer.index_word[word_index] + \" \"\n",
    "\n",
    "    return generated"
   ]
  },
  {
   "cell_type": "code",
   "execution_count": 57,
   "id": "508d1db7",
   "metadata": {},
   "outputs": [
    {
     "data": {
      "text/plain": [
       "'<start> there s a creak behind the door <end> '"
      ]
     },
     "execution_count": 57,
     "metadata": {},
     "output_type": "execute_result"
    }
   ],
   "source": [
    "generate_text(lyricist, tokenizer, init_sentence=\"<start> there\")"
   ]
  },
  {
   "cell_type": "code",
   "execution_count": 58,
   "id": "c3caa50c",
   "metadata": {},
   "outputs": [
    {
     "data": {
      "text/plain": [
       "'<start> you re the only one i want <end> '"
      ]
     },
     "execution_count": 58,
     "metadata": {},
     "output_type": "execute_result"
    }
   ],
   "source": [
    "generate_text(lyricist, tokenizer, init_sentence=\"<start> you\")"
   ]
  },
  {
   "cell_type": "code",
   "execution_count": 59,
   "id": "db389cd0",
   "metadata": {},
   "outputs": [
    {
     "data": {
      "text/plain": [
       "'<start> i love you <end> '"
      ]
     },
     "execution_count": 59,
     "metadata": {},
     "output_type": "execute_result"
    }
   ],
   "source": [
    "generate_text(lyricist, tokenizer, init_sentence=\"<start> i love\")"
   ]
  },
  {
   "cell_type": "code",
   "execution_count": 60,
   "id": "f18e0313",
   "metadata": {},
   "outputs": [
    {
     "data": {
      "text/plain": [
       "'<start> true love needs a lover <end> '"
      ]
     },
     "execution_count": 60,
     "metadata": {},
     "output_type": "execute_result"
    }
   ],
   "source": [
    "generate_text(lyricist, tokenizer, init_sentence=\"<start> True\")"
   ]
  },
  {
   "cell_type": "code",
   "execution_count": 61,
   "id": "88c331b5",
   "metadata": {},
   "outputs": [
    {
     "data": {
      "text/plain": [
       "'<start> say it all , <end> '"
      ]
     },
     "execution_count": 61,
     "metadata": {},
     "output_type": "execute_result"
    }
   ],
   "source": [
    "generate_text(lyricist, tokenizer, init_sentence=\"<start> say\")"
   ]
  },
  {
   "cell_type": "code",
   "execution_count": 66,
   "id": "9ea4667d",
   "metadata": {},
   "outputs": [
    {
     "data": {
      "text/plain": [
       "'<start> when <unk> re the only felony <end> '"
      ]
     },
     "execution_count": 66,
     "metadata": {},
     "output_type": "execute_result"
    }
   ],
   "source": [
    "generate_text(lyricist, tokenizer, init_sentence=\"<start> when we' re\")"
   ]
  },
  {
   "cell_type": "markdown",
   "id": "6018d535",
   "metadata": {},
   "source": [
    "# 회고\n",
    "\n",
    "NLP 첫 익스라서 나름 관심갖고 해보려 했는데 노드밀려서 시간을 생각보다 못썼고 학습시간이 길어서 많이 실험을 해보지 못했다..ㅠ\n",
    "더 좋은 결과를 위해 이거저거 코드도 참고해보고 해보았지만 val_loss를 2.2 이하로 낮추지는 못했다...\n",
    "아쉬운 결과지만 많이 배웠고 또 시간나면 더 해봐야 겠다.\n",
    "문장은 나름 잘 생성하였고 ' 처리를 좀 신경써야겠다.\n",
    "정규표현식 공부!"
   ]
  }
 ],
 "metadata": {
  "kernelspec": {
   "display_name": "Python 3 (ipykernel)",
   "language": "python",
   "name": "python3"
  },
  "language_info": {
   "codemirror_mode": {
    "name": "ipython",
    "version": 3
   },
   "file_extension": ".py",
   "mimetype": "text/x-python",
   "name": "python",
   "nbconvert_exporter": "python",
   "pygments_lexer": "ipython3",
   "version": "3.9.7"
  }
 },
 "nbformat": 4,
 "nbformat_minor": 5
}
