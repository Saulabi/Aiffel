{
 "cells": [
  {
   "cell_type": "markdown",
   "id": "6a0c24d9",
   "metadata": {},
   "source": [
    "# 필요한 라이브러리 import"
   ]
  },
  {
   "cell_type": "code",
   "execution_count": 1,
   "id": "41fb79a8",
   "metadata": {},
   "outputs": [],
   "source": [
    "import warnings\n",
    "warnings.filterwarnings(action='ignore')\n",
    "\n",
    "import re\n",
    "import numpy as np\n",
    "import pandas as pd\n",
    "import matplotlib.pyplot as plt\n",
    "%matplotlib inline\n",
    "import tensorflow as tf\n",
    "from tensorflow import keras\n",
    "from konlpy.tag import Mecab\n",
    "from collections import Counter"
   ]
  },
  {
   "cell_type": "markdown",
   "id": "e62bf9b6",
   "metadata": {},
   "source": [
    "# 데이터 준비 및 확인"
   ]
  },
  {
   "cell_type": "code",
   "execution_count": 2,
   "id": "78991804",
   "metadata": {},
   "outputs": [
    {
     "data": {
      "text/html": [
       "<div>\n",
       "<style scoped>\n",
       "    .dataframe tbody tr th:only-of-type {\n",
       "        vertical-align: middle;\n",
       "    }\n",
       "\n",
       "    .dataframe tbody tr th {\n",
       "        vertical-align: top;\n",
       "    }\n",
       "\n",
       "    .dataframe thead th {\n",
       "        text-align: right;\n",
       "    }\n",
       "</style>\n",
       "<table border=\"1\" class=\"dataframe\">\n",
       "  <thead>\n",
       "    <tr style=\"text-align: right;\">\n",
       "      <th></th>\n",
       "      <th>id</th>\n",
       "      <th>document</th>\n",
       "      <th>label</th>\n",
       "    </tr>\n",
       "  </thead>\n",
       "  <tbody>\n",
       "    <tr>\n",
       "      <th>0</th>\n",
       "      <td>9976970</td>\n",
       "      <td>아 더빙.. 진짜 짜증나네요 목소리</td>\n",
       "      <td>0</td>\n",
       "    </tr>\n",
       "    <tr>\n",
       "      <th>1</th>\n",
       "      <td>3819312</td>\n",
       "      <td>흠...포스터보고 초딩영화줄....오버연기조차 가볍지 않구나</td>\n",
       "      <td>1</td>\n",
       "    </tr>\n",
       "    <tr>\n",
       "      <th>2</th>\n",
       "      <td>10265843</td>\n",
       "      <td>너무재밓었다그래서보는것을추천한다</td>\n",
       "      <td>0</td>\n",
       "    </tr>\n",
       "    <tr>\n",
       "      <th>3</th>\n",
       "      <td>9045019</td>\n",
       "      <td>교도소 이야기구먼 ..솔직히 재미는 없다..평점 조정</td>\n",
       "      <td>0</td>\n",
       "    </tr>\n",
       "    <tr>\n",
       "      <th>4</th>\n",
       "      <td>6483659</td>\n",
       "      <td>사이몬페그의 익살스런 연기가 돋보였던 영화!스파이더맨에서 늙어보이기만 했던 커스틴 ...</td>\n",
       "      <td>1</td>\n",
       "    </tr>\n",
       "  </tbody>\n",
       "</table>\n",
       "</div>"
      ],
      "text/plain": [
       "         id                                           document  label\n",
       "0   9976970                                아 더빙.. 진짜 짜증나네요 목소리      0\n",
       "1   3819312                  흠...포스터보고 초딩영화줄....오버연기조차 가볍지 않구나      1\n",
       "2  10265843                                  너무재밓었다그래서보는것을추천한다      0\n",
       "3   9045019                      교도소 이야기구먼 ..솔직히 재미는 없다..평점 조정      0\n",
       "4   6483659  사이몬페그의 익살스런 연기가 돋보였던 영화!스파이더맨에서 늙어보이기만 했던 커스틴 ...      1"
      ]
     },
     "execution_count": 2,
     "metadata": {},
     "output_type": "execute_result"
    }
   ],
   "source": [
    "train_data = pd.read_table('~/aiffel/Ex_6/data/ratings_train.txt')\n",
    "test_data = pd.read_table('~/aiffel/Ex_6/data/ratings_test.txt')\n",
    "\n",
    "train_data.head()"
   ]
  },
  {
   "cell_type": "code",
   "execution_count": 3,
   "id": "8f95857e",
   "metadata": {},
   "outputs": [
    {
     "name": "stdout",
     "output_type": "stream",
     "text": [
      "(150000, 3)\n",
      "(50000, 3)\n"
     ]
    }
   ],
   "source": [
    "print(train_data.shape)\n",
    "print(test_data.shape)"
   ]
  },
  {
   "cell_type": "markdown",
   "id": "9831ef86",
   "metadata": {},
   "source": [
    "# 데이터 로더 구성"
   ]
  },
  {
   "cell_type": "code",
   "execution_count": 4,
   "id": "399701b9",
   "metadata": {},
   "outputs": [
    {
     "name": "stdout",
     "output_type": "stream",
     "text": [
      "146183\n",
      "49158\n"
     ]
    }
   ],
   "source": [
    "from konlpy.tag import Mecab\n",
    "\n",
    "mecab = Mecab()\n",
    "stopwords = ['의','가','이','은','들','는','좀','잘','걍','과','도','를','으로','자','에','와','한','하다']  # 불용어\n",
    "\n",
    "# 데이터 로더 함수 정의\n",
    "def load_data(train_data, test_data, num_words=10000):\n",
    "    # train data 전처리\n",
    "    train_data.drop_duplicates(subset=['document'], inplace=True)  # 중복 제거\n",
    "    train_data['document'] = train_data['document'].str.replace(\"[^ㄱ-ㅎㅏ-ㅣ가-힣 ]\", \"\")  # 특수문자 제거\n",
    "    train_data['document'].replace('', np.nan, inplace=True)\n",
    "    train_data = train_data.dropna(how = 'any')  # 결측치 제거\n",
    "    # test data 전처리\n",
    "    test_data.drop_duplicates(subset=['document'], inplace=True)\n",
    "    test_data['document'] = test_data['document'].str.replace(\"[^ㄱ-ㅎㅏ-ㅣ가-힣 ]\", \"\")\n",
    "    test_data['document'].replace('', np.nan, inplace=True)\n",
    "    test_data = test_data.dropna(how = 'any')\n",
    "    \n",
    "    X_train = []\n",
    "    for sentence in train_data['document']:\n",
    "        X_train.append([word for word in mecab.morphs(sentence) if not word in stopwords])  # 토큰화 및 불용어 제거\n",
    "        \n",
    "    X_test = []\n",
    "    for sentence in test_data['document']:\n",
    "        X_test.append([word for word in mecab.morphs(sentence) if not word in stopwords])\n",
    "            \n",
    "    # 단어사전 만들기  \n",
    "    words = np.concatenate(X_train).tolist()\n",
    "    counter = Counter(words)\n",
    "    counter = counter.most_common(10000-4)  # 단어 빈도순으로 (10000-4)개 가져오기\n",
    "    vocab = ['<PAD>', '<BOS>', '<UNK>', '<UNUSED>'] + [key for key, _ in counter]  # 앞부분 4개 가져오기\n",
    "    word_to_index = {word:index for index, word in enumerate(vocab)}  # {word:index} 단어사전 생성\n",
    "        \n",
    "        \n",
    "    # 리뷰 텍스트를 단어사전 인덱스로 변환\n",
    "    def wordlist_to_indexlist(wordlist):\n",
    "        return [word_to_index[word] if word in word_to_index else word_to_index['<UNK>'] for word in wordlist]\n",
    "        \n",
    "    X_train = list(map(wordlist_to_indexlist, X_train))\n",
    "    X_test = list(map(wordlist_to_indexlist, X_test))\n",
    "        \n",
    "    return X_train, np.array(list(train_data['label'])), X_test, np.array(list(test_data['label'])), word_to_index\n",
    "\n",
    "# 데이터 로더 실행하여 데이터셋 생성\n",
    "X_train, y_train, X_test, y_test, word_to_index = load_data(train_data, test_data)\n",
    "print(len(train_data))\n",
    "print(len(test_data))\n",
    "\n",
    "# {index:word} 딕셔너리 생성\n",
    "index_to_word = {index:word for word, index in word_to_index.items()}"
   ]
  },
  {
   "cell_type": "code",
   "execution_count": 5,
   "id": "b0946f76",
   "metadata": {},
   "outputs": [],
   "source": [
    "# 인코더 - 디코더 함수 정의\n",
    "# 문장 1개를 활용할 딕셔너리와 함께 주면, 단어 인덱스 리스트 벡터로 변환해 주는 함수입니다. \n",
    "# 단, 모든 문장은 <BOS>로 시작하는 것으로 합니다. \n",
    "def get_encoded_sentence(sentence, word_to_index):\n",
    "    return [word_to_index['<BOS>']]+[word_to_index[word] if word in word_to_index else word_to_index['<UNK>'] for word in sentence.split()]\n",
    "\n",
    "\n",
    "# 여러 개의 문장 리스트를 한꺼번에 단어 인덱스 리스트 벡터로 encode해 주는 함수입니다. \n",
    "def get_encoded_sentences(sentences, word_to_index):\n",
    "    return [get_encoded_sentence(sentence, word_to_index) for sentence in sentences]\n",
    "\n",
    "\n",
    "# 숫자 벡터로 encode된 문장을 원래대로 decode하는 함수입니다. \n",
    "def get_decoded_sentence(encoded_sentence, index_to_word):\n",
    "    return ' '.join(index_to_word[index] if index in index_to_word else '<UNK>' for index in encoded_sentence[1:])  #[1:]를 통해 <BOS>를 제외\n",
    "\n",
    "\n",
    "# 여러 개의 숫자 벡터로 encode된 문장을 한꺼번에 원래대로 decode하는 함수입니다. \n",
    "def get_decoded_sentences(encoded_sentences, index_to_word):\n",
    "    return [get_decoded_sentence(encoded_sentence, index_to_word) for encoded_sentence in encoded_sentences]"
   ]
  },
  {
   "cell_type": "code",
   "execution_count": 6,
   "id": "15805f64",
   "metadata": {},
   "outputs": [
    {
     "name": "stdout",
     "output_type": "stream",
     "text": [
      "[27, 67, 895, 33, 214, 15, 28, 699]\n",
      "더 빙 진짜 짜증 나 네요 목소리\n",
      "라벨:  0\n",
      "[977, 481, 491, 636, 4, 110, 1554, 48, 866, 949, 11, 38, 364]\n",
      "포스터 보고 초딩 영화 줄 오버 연기 조차 가볍 지 않 구나\n",
      "라벨:  1\n",
      "[19, 192, 2]\n",
      "재 <UNK>\n",
      "라벨:  0\n",
      "[8035, 143, 4134, 277, 85, 13, 5, 52, 3326]\n",
      "이야기 구먼 솔직히 재미 없 다 평점 조정\n",
      "라벨:  0\n",
      "[2, 8488, 1051, 48, 2702, 54, 4, 2625, 34, 1118, 29, 326, 36, 17, 35, 54, 2, 2, 393, 2850, 1677, 5]\n",
      "익살 스런 연기 돋보였 던 영화 스파이더맨 에서 늙 어 보이 기 만 했 던 <UNK> <UNK> 너무나 이뻐 보였 다\n",
      "라벨:  1\n"
     ]
    }
   ],
   "source": [
    "# decode된 문장과 라벨을 비교하여 일치하는지 확인\n",
    "for i in range(5):\n",
    "    print(X_train[i])\n",
    "    print(get_decoded_sentence(X_train[i], index_to_word))\n",
    "    print('라벨: ', y_train[i])"
   ]
  },
  {
   "cell_type": "markdown",
   "id": "f8067eaf",
   "metadata": {},
   "source": [
    "# 모델 구성을 위한 데이터 분석 및 가공"
   ]
  },
  {
   "cell_type": "code",
   "execution_count": 7,
   "id": "4227c1eb",
   "metadata": {},
   "outputs": [
    {
     "name": "stdout",
     "output_type": "stream",
     "text": [
      "문장길이 평균 :  13.757179674103888\n",
      "문장길이 최대 :  83\n",
      "문장길이 표준편차 :  11.462771769216866\n",
      "pad_sequences maxlen :  36\n",
      "전체 문장의 93.38145451931864%가 maxlen 설정값 이내에 포함됩니다. \n"
     ]
    }
   ],
   "source": [
    "total_data_text = list(X_train) + list(X_test)\n",
    "# 텍스트데이터 문장길이의 리스트를 생성한 후\n",
    "num_tokens = [len(tokens) for tokens in total_data_text]\n",
    "num_tokens = np.array(num_tokens)\n",
    "\n",
    "# 문장길이의 평균값, 최대값, 표준편차를 계산해 본다. \n",
    "print('문장길이 평균 : ', np.mean(num_tokens))\n",
    "print('문장길이 최대 : ', np.max(num_tokens))\n",
    "print('문장길이 표준편차 : ', np.std(num_tokens))\n",
    "\n",
    "# 예를들어, 최대 길이를 (평균 + 2*표준편차)로 한다면,  \n",
    "max_tokens = np.mean(num_tokens) + 2*np.std(num_tokens)\n",
    "maxlen = int(max_tokens)\n",
    "print('pad_sequences maxlen : ', maxlen)\n",
    "print('전체 문장의 {}%가 maxlen 설정값 이내에 포함됩니다. '.format(np.sum(num_tokens < max_tokens) / len(num_tokens)*100))"
   ]
  },
  {
   "cell_type": "code",
   "execution_count": 8,
   "id": "8244159b",
   "metadata": {},
   "outputs": [
    {
     "name": "stdout",
     "output_type": "stream",
     "text": [
      "(145791, 36)\n"
     ]
    }
   ],
   "source": [
    "# padding으로 문장 길이 맞추기\n",
    "X_train = tf.keras.preprocessing.sequence.pad_sequences(X_train,\n",
    "                                                        value=word_to_index[\"<PAD>\"],\n",
    "                                                        padding='post', # 혹은 'pre'\n",
    "                                                        maxlen=maxlen)\n",
    "\n",
    "X_test = tf.keras.preprocessing.sequence.pad_sequences(X_test,\n",
    "                                                       value=word_to_index[\"<PAD>\"],\n",
    "                                                       padding='post', # 혹은 'pre'\n",
    "                                                       maxlen=maxlen)\n",
    "\n",
    "print(X_train.shape)"
   ]
  },
  {
   "cell_type": "code",
   "execution_count": 9,
   "id": "fa789724",
   "metadata": {},
   "outputs": [
    {
     "name": "stdout",
     "output_type": "stream",
     "text": [
      "(40000, 36)\n",
      "(40000,)\n",
      "(105791, 36)\n",
      "(105791,)\n"
     ]
    }
   ],
   "source": [
    "# validation set 40000건 분리\n",
    "X_val = X_train[:40000]   \n",
    "y_val = y_train[:40000]\n",
    "\n",
    "# validation set을 제외한 나머지\n",
    "partial_X_train = X_train[40000:]  \n",
    "partial_y_train = y_train[40000:]\n",
    "\n",
    "print(X_val.shape)\n",
    "print(y_val.shape)\n",
    "print(partial_X_train.shape)\n",
    "print(partial_y_train.shape)"
   ]
  },
  {
   "cell_type": "markdown",
   "id": "84e74569",
   "metadata": {},
   "source": [
    "# 3가지 모델 설계 및 학습, 평가, 시각화를 통한 비교"
   ]
  },
  {
   "cell_type": "markdown",
   "id": "134af467",
   "metadata": {},
   "source": [
    "### LSTM"
   ]
  },
  {
   "cell_type": "code",
   "execution_count": 10,
   "id": "df56d476",
   "metadata": {},
   "outputs": [
    {
     "name": "stdout",
     "output_type": "stream",
     "text": [
      "Model: \"LSTM\"\n",
      "_________________________________________________________________\n",
      "Layer (type)                 Output Shape              Param #   \n",
      "=================================================================\n",
      "embedding (Embedding)        (None, None, 200)         2000000   \n",
      "_________________________________________________________________\n",
      "lstm (LSTM)                  (None, 8)                 6688      \n",
      "_________________________________________________________________\n",
      "dense (Dense)                (None, 8)                 72        \n",
      "_________________________________________________________________\n",
      "dense_1 (Dense)              (None, 1)                 9         \n",
      "=================================================================\n",
      "Total params: 2,006,769\n",
      "Trainable params: 2,006,769\n",
      "Non-trainable params: 0\n",
      "_________________________________________________________________\n"
     ]
    }
   ],
   "source": [
    "vocab_size = 10000    # 어휘 사전의 크기(10,000개의 단어)\n",
    "word_vector_dim = 200  # 워드 벡터의 차원 수 (변경 가능한 파라미터)\n",
    "\n",
    "# LSTM 모델 설계\n",
    "lstm = keras.Sequential(name=\"LSTM\")\n",
    "lstm.add(keras.layers.Embedding(vocab_size, word_vector_dim, input_shape=(None,)))\n",
    "lstm.add(keras.layers.LSTM(8))  # LSTM state 벡터의 차원 수\n",
    "lstm.add(keras.layers.Dense(8, activation='relu'))\n",
    "lstm.add(keras.layers.Dense(1, activation='sigmoid'))  # 최종 출력은 긍정/부정을 나타내는 1dim\n",
    "\n",
    "lstm.summary()"
   ]
  },
  {
   "cell_type": "code",
   "execution_count": 11,
   "id": "f1f4187d",
   "metadata": {},
   "outputs": [
    {
     "name": "stdout",
     "output_type": "stream",
     "text": [
      "Epoch 1/5\n",
      "207/207 [==============================] - 5s 9ms/step - loss: 0.5346 - accuracy: 0.7019 - val_loss: 0.3782 - val_accuracy: 0.8357\n",
      "Epoch 2/5\n",
      "207/207 [==============================] - 1s 7ms/step - loss: 0.3492 - accuracy: 0.8503 - val_loss: 0.3579 - val_accuracy: 0.8419\n",
      "Epoch 3/5\n",
      "207/207 [==============================] - 1s 7ms/step - loss: 0.3102 - accuracy: 0.8656 - val_loss: 0.3749 - val_accuracy: 0.8399\n",
      "Epoch 4/5\n",
      "207/207 [==============================] - 1s 7ms/step - loss: 0.2887 - accuracy: 0.8744 - val_loss: 0.3727 - val_accuracy: 0.8422\n",
      "Epoch 5/5\n",
      "207/207 [==============================] - 1s 7ms/step - loss: 0.2710 - accuracy: 0.8811 - val_loss: 0.3839 - val_accuracy: 0.8397\n"
     ]
    }
   ],
   "source": [
    "# model 학습\n",
    "lstm.compile(optimizer='adam',\n",
    "             loss='binary_crossentropy',\n",
    "             metrics=['accuracy'])\n",
    "            \n",
    "epochs=5\n",
    "\n",
    "history = lstm.fit(partial_X_train,\n",
    "                   partial_y_train,\n",
    "                   epochs=epochs,\n",
    "                   batch_size=512,\n",
    "                   validation_data=(X_val, y_val),\n",
    "                   verbose=1)"
   ]
  },
  {
   "cell_type": "code",
   "execution_count": 12,
   "id": "5e4b08b4",
   "metadata": {},
   "outputs": [
    {
     "name": "stdout",
     "output_type": "stream",
     "text": [
      "1532/1532 - 3s - loss: 0.3851 - accuracy: 0.8385\n",
      "[0.385131299495697, 0.8385345339775085]\n"
     ]
    }
   ],
   "source": [
    "# test set으로 model 평가\n",
    "lstm_results = lstm.evaluate(X_test, y_test, verbose=2)\n",
    "print(lstm_results)"
   ]
  },
  {
   "cell_type": "code",
   "execution_count": 13,
   "id": "1ad79782",
   "metadata": {},
   "outputs": [
    {
     "name": "stdout",
     "output_type": "stream",
     "text": [
      "dict_keys(['loss', 'accuracy', 'val_loss', 'val_accuracy'])\n"
     ]
    }
   ],
   "source": [
    "history_dict = history.history\n",
    "print(history_dict.keys()) # epoch에 따른 그래프를 그려볼 수 있는 항목들"
   ]
  },
  {
   "cell_type": "code",
   "execution_count": 14,
   "id": "79a9e790",
   "metadata": {},
   "outputs": [
    {
     "data": {
      "image/png": "[encoded data removed]",
      "text/plain": [
       "<Figure size 576x288 with 2 Axes>"
      ]
     },
     "metadata": {
      "needs_background": "light"
     },
     "output_type": "display_data"
    }
   ],
   "source": [
    "# 시각화\n",
    "import matplotlib.pyplot as plt\n",
    "\n",
    "acc = history_dict['accuracy']\n",
    "val_acc = history_dict['val_accuracy']\n",
    "loss = history_dict['loss']\n",
    "val_loss = history_dict['val_loss']\n",
    "\n",
    "epochs = range(1, len(acc) + 1)\n",
    "\n",
    "# Accuracy 그래프\n",
    "plt.figure(figsize=(8, 4))\n",
    "plt.subplot(1, 2, 1)\n",
    "plt.plot(epochs, acc, label='Training Accuracy')\n",
    "plt.plot(epochs, val_acc, label='Validation Accuracy')\n",
    "plt.title('Training and Validation Accuracy')\n",
    "plt.legend()\n",
    "# Loss 그래프\n",
    "plt.subplot(1, 2, 2)\n",
    "plt.plot(epochs, loss, label='Training Loss')\n",
    "plt.plot(epochs, val_loss, label='Validation Loss')\n",
    "plt.title('Training and Validation Loss')\n",
    "plt.legend()\n",
    "plt.show()"
   ]
  },
  {
   "cell_type": "markdown",
   "id": "4804d1a8",
   "metadata": {},
   "source": [
    "### 1-D CNN"
   ]
  },
  {
   "cell_type": "code",
   "execution_count": 15,
   "id": "6cec41fb",
   "metadata": {},
   "outputs": [
    {
     "name": "stdout",
     "output_type": "stream",
     "text": [
      "Model: \"CNN\"\n",
      "_________________________________________________________________\n",
      "Layer (type)                 Output Shape              Param #   \n",
      "=================================================================\n",
      "embedding_1 (Embedding)      (None, None, 200)         2000000   \n",
      "_________________________________________________________________\n",
      "conv1d (Conv1D)              (None, None, 16)          9616      \n",
      "_________________________________________________________________\n",
      "max_pooling1d (MaxPooling1D) (None, None, 16)          0         \n",
      "_________________________________________________________________\n",
      "conv1d_1 (Conv1D)            (None, None, 16)          784       \n",
      "_________________________________________________________________\n",
      "global_max_pooling1d (Global (None, 16)                0         \n",
      "_________________________________________________________________\n",
      "dense_2 (Dense)              (None, 8)                 136       \n",
      "_________________________________________________________________\n",
      "dense_3 (Dense)              (None, 1)                 9         \n",
      "=================================================================\n",
      "Total params: 2,010,545\n",
      "Trainable params: 2,010,545\n",
      "Non-trainable params: 0\n",
      "_________________________________________________________________\n"
     ]
    }
   ],
   "source": [
    "vocab_size = 10000\n",
    "word_vector_dim = 200\n",
    "\n",
    "# 1-D CNN 모델 설계\n",
    "cnn = keras.Sequential(name=\"CNN\")\n",
    "cnn.add(keras.layers.Embedding(vocab_size, word_vector_dim, input_shape=(None,)))\n",
    "cnn.add(keras.layers.Conv1D(16, 3, activation='relu'))\n",
    "cnn.add(keras.layers.MaxPooling1D(5))\n",
    "cnn.add(keras.layers.Conv1D(16, 3, activation='relu'))\n",
    "cnn.add(keras.layers.GlobalMaxPooling1D())\n",
    "cnn.add(keras.layers.Dense(8, activation='relu'))\n",
    "cnn.add(keras.layers.Dense(1, activation='sigmoid'))\n",
    "\n",
    "cnn.summary()"
   ]
  },
  {
   "cell_type": "code",
   "execution_count": 16,
   "id": "6a910f03",
   "metadata": {},
   "outputs": [
    {
     "name": "stdout",
     "output_type": "stream",
     "text": [
      "Epoch 1/5\n",
      "207/207 [==============================] - 3s 8ms/step - loss: 0.4655 - accuracy: 0.7823 - val_loss: 0.3612 - val_accuracy: 0.8400\n",
      "Epoch 2/5\n",
      "207/207 [==============================] - 1s 6ms/step - loss: 0.3225 - accuracy: 0.8626 - val_loss: 0.3515 - val_accuracy: 0.8453\n",
      "Epoch 3/5\n",
      "207/207 [==============================] - 1s 6ms/step - loss: 0.2719 - accuracy: 0.8888 - val_loss: 0.3590 - val_accuracy: 0.8447\n",
      "Epoch 4/5\n",
      "207/207 [==============================] - 1s 6ms/step - loss: 0.2239 - accuracy: 0.9137 - val_loss: 0.3851 - val_accuracy: 0.8420\n",
      "Epoch 5/5\n",
      "207/207 [==============================] - 1s 6ms/step - loss: 0.1756 - accuracy: 0.9361 - val_loss: 0.4227 - val_accuracy: 0.8352\n"
     ]
    }
   ],
   "source": [
    "# model 학습\n",
    "cnn.compile(optimizer='adam',\n",
    "            loss='binary_crossentropy',\n",
    "            metrics=['accuracy'])\n",
    "            \n",
    "epochs=5\n",
    "\n",
    "history = cnn.fit(partial_X_train,\n",
    "                  partial_y_train,\n",
    "                  epochs=epochs,\n",
    "                  batch_size=512,\n",
    "                  validation_data=(X_val, y_val),\n",
    "                  verbose=1)"
   ]
  },
  {
   "cell_type": "code",
   "execution_count": 17,
   "id": "03d9701f",
   "metadata": {},
   "outputs": [
    {
     "name": "stdout",
     "output_type": "stream",
     "text": [
      "1532/1532 - 3s - loss: 0.4287 - accuracy: 0.8331\n",
      "[0.4287489950656891, 0.8331054449081421]\n"
     ]
    }
   ],
   "source": [
    "# test set으로 model 평가\n",
    "cnn_results = cnn.evaluate(X_test,  y_test, verbose=2)\n",
    "print(cnn_results)"
   ]
  },
  {
   "cell_type": "code",
   "execution_count": 18,
   "id": "bcbabe8b",
   "metadata": {},
   "outputs": [
    {
     "data": {
      "image/png": "[encoded data removed]",
      "text/plain": [
       "<Figure size 576x288 with 2 Axes>"
      ]
     },
     "metadata": {
      "needs_background": "light"
     },
     "output_type": "display_data"
    }
   ],
   "source": [
    "# 시각화\n",
    "import matplotlib.pyplot as plt\n",
    "\n",
    "history_dict = history.history\n",
    "acc = history_dict['accuracy']\n",
    "val_acc = history_dict['val_accuracy']\n",
    "loss = history_dict['loss']\n",
    "val_loss = history_dict['val_loss']\n",
    "\n",
    "epochs = range(1, len(acc) + 1)\n",
    "\n",
    "# Accuracy 그래프\n",
    "plt.figure(figsize=(8, 4))\n",
    "plt.subplot(1, 2, 1)\n",
    "plt.plot(epochs, acc, label='Training Accuracy')\n",
    "plt.plot(epochs, val_acc, label='Validation Accuracy')\n",
    "plt.title('Training and Validation Accuracy')\n",
    "plt.legend()\n",
    "# Loss 그래프\n",
    "plt.subplot(1, 2, 2)\n",
    "plt.plot(epochs, loss, label='Training Loss')\n",
    "plt.plot(epochs, val_loss, label='Validation Loss')\n",
    "plt.title('Training and Validation Loss')\n",
    "plt.legend()\n",
    "plt.show()"
   ]
  },
  {
   "cell_type": "markdown",
   "id": "e9bc49ae",
   "metadata": {},
   "source": [
    "### GlobalMaxPooling1D"
   ]
  },
  {
   "cell_type": "code",
   "execution_count": 19,
   "id": "ba2c0a75",
   "metadata": {},
   "outputs": [
    {
     "name": "stdout",
     "output_type": "stream",
     "text": [
      "Model: \"GlabalMaxPooling1D\"\n",
      "_________________________________________________________________\n",
      "Layer (type)                 Output Shape              Param #   \n",
      "=================================================================\n",
      "embedding_2 (Embedding)      (None, None, 200)         2000000   \n",
      "_________________________________________________________________\n",
      "global_max_pooling1d_1 (Glob (None, 200)               0         \n",
      "_________________________________________________________________\n",
      "dense_4 (Dense)              (None, 8)                 1608      \n",
      "_________________________________________________________________\n",
      "dense_5 (Dense)              (None, 1)                 9         \n",
      "=================================================================\n",
      "Total params: 2,001,617\n",
      "Trainable params: 2,001,617\n",
      "Non-trainable params: 0\n",
      "_________________________________________________________________\n"
     ]
    }
   ],
   "source": [
    "vocab_size = 10000  \n",
    "word_vector_dim = 200\n",
    "\n",
    "# GlobalMaxPooling1D 모델 설계\n",
    "gmp1d = keras.Sequential(name=\"GlabalMaxPooling1D\")\n",
    "gmp1d.add(keras.layers.Embedding(vocab_size, word_vector_dim, input_shape=(None,)))\n",
    "gmp1d.add(keras.layers.GlobalMaxPooling1D())\n",
    "gmp1d.add(keras.layers.Dense(8, activation='relu'))\n",
    "gmp1d.add(keras.layers.Dense(1, activation='sigmoid'))\n",
    "\n",
    "gmp1d.summary()"
   ]
  },
  {
   "cell_type": "code",
   "execution_count": 20,
   "id": "72453572",
   "metadata": {},
   "outputs": [
    {
     "name": "stdout",
     "output_type": "stream",
     "text": [
      "Epoch 1/5\n",
      "207/207 [==============================] - 2s 6ms/step - loss: 0.5078 - accuracy: 0.7857 - val_loss: 0.3654 - val_accuracy: 0.8373\n",
      "Epoch 2/5\n",
      "207/207 [==============================] - 1s 5ms/step - loss: 0.3311 - accuracy: 0.8582 - val_loss: 0.3467 - val_accuracy: 0.8470\n",
      "Epoch 3/5\n",
      "207/207 [==============================] - 1s 5ms/step - loss: 0.2812 - accuracy: 0.8846 - val_loss: 0.3496 - val_accuracy: 0.8490\n",
      "Epoch 4/5\n",
      "207/207 [==============================] - 1s 5ms/step - loss: 0.2408 - accuracy: 0.9046 - val_loss: 0.3650 - val_accuracy: 0.8469\n",
      "Epoch 5/5\n",
      "207/207 [==============================] - 1s 5ms/step - loss: 0.2011 - accuracy: 0.9241 - val_loss: 0.3837 - val_accuracy: 0.8449\n"
     ]
    }
   ],
   "source": [
    "# model 학습\n",
    "gmp1d.compile(optimizer='adam',\n",
    "              loss='binary_crossentropy',\n",
    "              metrics=['accuracy'])\n",
    "            \n",
    "epochs=5\n",
    "\n",
    "history = gmp1d.fit(partial_X_train,\n",
    "                    partial_y_train,\n",
    "                    epochs=epochs,\n",
    "                    batch_size=512,\n",
    "                    validation_data=(X_val, y_val),\n",
    "                    verbose=1)"
   ]
  },
  {
   "cell_type": "code",
   "execution_count": 21,
   "id": "8e2853f0",
   "metadata": {},
   "outputs": [
    {
     "name": "stdout",
     "output_type": "stream",
     "text": [
      "1532/1532 - 2s - loss: 0.3910 - accuracy: 0.8417\n",
      "[0.39097294211387634, 0.8417185544967651]\n"
     ]
    }
   ],
   "source": [
    "# test set으로 model 평가\n",
    "results = gmp1d.evaluate(X_test,  y_test, verbose=2)\n",
    "print(results)"
   ]
  },
  {
   "cell_type": "code",
   "execution_count": 22,
   "id": "1ceb31fe",
   "metadata": {},
   "outputs": [
    {
     "data": {
      "image/png": "[encoded data removed]",
      "text/plain": [
       "<Figure size 576x288 with 2 Axes>"
      ]
     },
     "metadata": {
      "needs_background": "light"
     },
     "output_type": "display_data"
    }
   ],
   "source": [
    "# 시각화\n",
    "import matplotlib.pyplot as plt\n",
    "\n",
    "history_dict = history.history\n",
    "acc = history_dict['accuracy']\n",
    "val_acc = history_dict['val_accuracy']\n",
    "loss = history_dict['loss']\n",
    "val_loss = history_dict['val_loss']\n",
    "\n",
    "epochs = range(1, len(acc) + 1)\n",
    "\n",
    "# Accuracy 그래프\n",
    "plt.figure(figsize=(8, 4))\n",
    "plt.subplot(1, 2, 1)\n",
    "plt.plot(epochs, acc, label='Training Accuracy')\n",
    "plt.plot(epochs, val_acc, label='Validation Accuracy')\n",
    "plt.title('Training and Validation Accuracy')\n",
    "plt.legend()\n",
    "# Loss 그래프\n",
    "plt.subplot(1, 2, 2)\n",
    "plt.plot(epochs, loss, label='Training Loss')\n",
    "plt.plot(epochs, val_loss, label='Validation Loss')\n",
    "plt.title('Training and Validation Loss')\n",
    "plt.legend()\n",
    "plt.show()"
   ]
  },
  {
   "cell_type": "markdown",
   "id": "9b1d21e6",
   "metadata": {},
   "source": [
    "# 모델 비교"
   ]
  },
  {
   "cell_type": "code",
   "execution_count": 23,
   "id": "d4736b46",
   "metadata": {},
   "outputs": [
    {
     "name": "stdout",
     "output_type": "stream",
     "text": [
      "LSTM 모델의 성능\n",
      "1532/1532 - 3s - loss: 0.3851 - accuracy: 0.8385\n",
      "1D-CNN 모델의 성능\n",
      "1532/1532 - 3s - loss: 0.4287 - accuracy: 0.8331\n",
      "GlobalMaxPooling1D 모델의 성능\n",
      "1532/1532 - 2s - loss: 0.3910 - accuracy: 0.8417\n"
     ]
    }
   ],
   "source": [
    "print(\"LSTM 모델의 성능\")\n",
    "LSTM_results = lstm.evaluate(X_test,  y_test, verbose=2)\n",
    "print(\"1D-CNN 모델의 성능\")\n",
    "CNN1D_results = cnn.evaluate(X_test,  y_test, verbose=2)\n",
    "print(\"GlobalMaxPooling1D 모델의 성능\")\n",
    "GlobalMaxPooling1D_results = gmp1d.evaluate(X_test,  y_test, verbose=2)"
   ]
  },
  {
   "cell_type": "markdown",
   "id": "a9a35489",
   "metadata": {},
   "source": [
    "# 학습된 Embedding 레이어 분석"
   ]
  },
  {
   "cell_type": "code",
   "execution_count": 24,
   "id": "57232e68",
   "metadata": {},
   "outputs": [],
   "source": [
    "import os\n",
    "import gensim\n",
    "from gensim.models.keyedvectors import Word2VecKeyedVectors\n",
    "from tensorflow.keras.initializers import Constant\n",
    "\n",
    "\n",
    "# LSTM\n",
    "# 임베딩 레이어 차원 확인.\n",
    "embedding_lstm = lstm.layers[0]\n",
    "weights_lstm = embedding_lstm.get_weights()[0]\n",
    "# 학습한 Embedding 파라미터를 파일에 써서 저장.\n",
    "word2vec_file_path_lstm = os.getenv('HOME')+'/aiffel/Ex_6/word2vec_lstm.txt'\n",
    "f = open(word2vec_file_path_lstm, 'w')\n",
    "f.write('{} {}\\n'.format(vocab_size-4, word_vector_dim))  # 몇개의 벡터를 얼마 사이즈로 기재할지 타이틀을 씁니다.\n",
    "# 단어 개수(특수문자 4개는 제외)만큼의 워드 벡터를 파일에 기록.\n",
    "vectors = lstm.get_weights()[0]\n",
    "for i in range(4,vocab_size):\n",
    "    f.write('{} {}\\n'.format(index_to_word[i], ' '.join(map(str, list(vectors[i, :])))))\n",
    "f.close()\n",
    "\n",
    "\n",
    "\n",
    "# 1D-CNN\n",
    "embedding_cnn = cnn.layers[0]\n",
    "weights_cnn = embedding_cnn.get_weights()[0]\n",
    "\n",
    "word2vec_file_path_cnn = os.getenv('HOME')+'/aiffel/Ex_6/word2vec_cnn.txt'\n",
    "f = open(word2vec_file_path_cnn, 'w')\n",
    "f.write('{} {}\\n'.format(vocab_size-4, word_vector_dim))\n",
    "\n",
    "vectors = cnn.get_weights()[0]\n",
    "for i in range(4,vocab_size):\n",
    "    f.write('{} {}\\n'.format(index_to_word[i], ' '.join(map(str, list(vectors[i, :])))))\n",
    "f.close()\n",
    "\n",
    "\n",
    "\n",
    "# GlobalMaxPooling1D\n",
    "embedding_gmp = gmp1d.layers[0]\n",
    "weights_gmp = embedding_gmp.get_weights()[0]\n",
    "\n",
    "word2vec_file_path_gmp = os.getenv('HOME')+'/aiffel/Ex_6/word2vec_gmp.txt'\n",
    "f = open(word2vec_file_path_gmp, 'w')\n",
    "f.write('{} {}\\n'.format(vocab_size-4, word_vector_dim))\n",
    "\n",
    "vectors = gmp1d.get_weights()[0]\n",
    "for i in range(4,vocab_size):\n",
    "    f.write('{} {}\\n'.format(index_to_word[i], ' '.join(map(str, list(vectors[i, :])))))\n",
    "f.close()\n",
    "\n",
    "\n",
    "word_vectors_lstm = Word2VecKeyedVectors.load_word2vec_format(word2vec_file_path_lstm, binary=False)\n",
    "word_vectors_cnn = Word2VecKeyedVectors.load_word2vec_format(word2vec_file_path_cnn, binary=False)\n",
    "word_vectors_gmp = Word2VecKeyedVectors.load_word2vec_format(word2vec_file_path_gmp, binary=False)"
   ]
  },
  {
   "cell_type": "code",
   "execution_count": 25,
   "id": "4c62fae4",
   "metadata": {},
   "outputs": [
    {
     "data": {
      "text/plain": [
       "[('낮', 0.8470009565353394),\n",
       " ('아쉬울', 0.8443454504013062),\n",
       " ('뛰어나', 0.8383393287658691),\n",
       " ('기다리', 0.8375727534294128),\n",
       " ('요세', 0.8355088233947754),\n",
       " ('진솔', 0.8348203897476196),\n",
       " ('울', 0.8348076343536377),\n",
       " ('나와도', 0.8344777822494507),\n",
       " ('노홍철', 0.8332153558731079),\n",
       " ('생생', 0.8286263346672058)]"
      ]
     },
     "execution_count": 25,
     "metadata": {},
     "output_type": "execute_result"
    }
   ],
   "source": [
    "# 파일에 기록된 임베딩 파라미터를 읽어서 word vector로 활용\n",
    "word_vectors = Word2VecKeyedVectors.load_word2vec_format(word2vec_file_path_lstm, binary=False)\n",
    "\n",
    "# 유사한 단어와 그 유사도 확인\n",
    "word_vectors.similar_by_word(\"행복\")"
   ]
  },
  {
   "cell_type": "code",
   "execution_count": 26,
   "id": "2e9d0f12",
   "metadata": {},
   "outputs": [
    {
     "data": {
      "text/plain": [
       "[('헨리', 0.590755820274353),\n",
       " ('특유', 0.5892919301986694),\n",
       " ('금방', 0.5768997669219971),\n",
       " ('좋아한다', 0.5634737014770508),\n",
       " ('쿵', 0.5634141564369202),\n",
       " ('올린다', 0.562516450881958),\n",
       " ('평론가', 0.5605564117431641),\n",
       " ('데이즈', 0.5603522658348083),\n",
       " ('서점', 0.5558199286460876),\n",
       " ('손색없', 0.5462963581085205)]"
      ]
     },
     "execution_count": 26,
     "metadata": {},
     "output_type": "execute_result"
    }
   ],
   "source": [
    "word_vectors = Word2VecKeyedVectors.load_word2vec_format(word2vec_file_path_cnn, binary=False)\n",
    "\n",
    "word_vectors.similar_by_word(\"행복\")"
   ]
  },
  {
   "cell_type": "code",
   "execution_count": 27,
   "id": "6f5c660b",
   "metadata": {},
   "outputs": [
    {
     "data": {
      "text/plain": [
       "[('고아라', 0.4147314429283142),\n",
       " ('살렸', 0.38137397170066833),\n",
       " ('오빠', 0.37582337856292725),\n",
       " ('평화', 0.3637404441833496),\n",
       " ('인물', 0.3614898920059204),\n",
       " ('봣는데', 0.36055219173431396),\n",
       " ('참신', 0.35954880714416504),\n",
       " ('조아', 0.3568788170814514),\n",
       " ('연주', 0.3562808930873871),\n",
       " ('귀여움', 0.3557380139827728)]"
      ]
     },
     "execution_count": 27,
     "metadata": {},
     "output_type": "execute_result"
    }
   ],
   "source": [
    "word_vectors = Word2VecKeyedVectors.load_word2vec_format(word2vec_file_path_gmp, binary=False)\n",
    "\n",
    "word_vectors.similar_by_word(\"행복\")"
   ]
  },
  {
   "cell_type": "markdown",
   "id": "76a5838d",
   "metadata": {},
   "source": [
    "# 한국어 Word2Vec 임베딩 활용하여 성능 개선\n",
    "\n",
    "https://github.com/Kyubyong/wordvectors"
   ]
  },
  {
   "cell_type": "code",
   "execution_count": 28,
   "id": "3b414044",
   "metadata": {},
   "outputs": [],
   "source": [
    "# !pip install --upgrade gensim==3.8.3"
   ]
  },
  {
   "cell_type": "code",
   "execution_count": 29,
   "id": "48a6f9a0",
   "metadata": {},
   "outputs": [],
   "source": [
    "from gensim.models import KeyedVectors\n",
    "from gensim.models import Word2Vec\n",
    "\n",
    "word2vec_path = os.getenv('HOME')+'/aiffel/Ex_6/data/ko.bin'\n",
    "word2vec = Word2Vec.load(word2vec_path)\n",
    "\n",
    "#이전 스텝에서 학습했던 모델의 임베딩 레이어를 Word2Vec의 것으로 교체하여 다시 학습\n",
    "vocab_size = len(index_to_word)    # 어휘 사전의 크기\n",
    "word_vector_dim = 200  # 워드 벡터의 차원수\n",
    "\n",
    "embedding_matrix = np.random.rand(vocab_size, word_vector_dim)\n",
    "\n",
    "# embedding_matrix에 Word2Vec 워드벡터를 단어 하나씩마다 차례차례 카피한다.\n",
    "for i in range(4,vocab_size):\n",
    "    if index_to_word[i] in word2vec:\n",
    "        embedding_matrix[i] = word2vec[index_to_word[i]]"
   ]
  },
  {
   "cell_type": "markdown",
   "id": "974b1b03",
   "metadata": {},
   "source": [
    "### LSTM + Kobin"
   ]
  },
  {
   "cell_type": "code",
   "execution_count": 30,
   "id": "28b44dc4",
   "metadata": {},
   "outputs": [
    {
     "name": "stdout",
     "output_type": "stream",
     "text": [
      "Model: \"LSTM_Kobin\"\n",
      "_________________________________________________________________\n",
      "Layer (type)                 Output Shape              Param #   \n",
      "=================================================================\n",
      "embedding_3 (Embedding)      (None, 36, 200)           2000000   \n",
      "_________________________________________________________________\n",
      "lstm_1 (LSTM)                (None, 128)               168448    \n",
      "_________________________________________________________________\n",
      "dense_6 (Dense)              (None, 8)                 1032      \n",
      "_________________________________________________________________\n",
      "dense_7 (Dense)              (None, 1)                 9         \n",
      "=================================================================\n",
      "Total params: 2,169,489\n",
      "Trainable params: 2,169,489\n",
      "Non-trainable params: 0\n",
      "_________________________________________________________________\n"
     ]
    }
   ],
   "source": [
    "from tensorflow.keras.initializers import Constant\n",
    "\n",
    "# LSTM_Kobin 설계 \n",
    "lstm_kobin = keras.Sequential(name=\"LSTM_Kobin\")\n",
    "lstm_kobin.add(keras.layers.Embedding(vocab_size, \n",
    "                                      word_vector_dim, \n",
    "                                      embeddings_initializer=Constant(embedding_matrix),  # 카피한 임베딩을 여기서 활용\n",
    "                                      input_length=maxlen, \n",
    "                                      trainable=True))\n",
    "lstm_kobin.add(keras.layers.LSTM(128))\n",
    "lstm_kobin.add(keras.layers.Dense(8, activation='relu'))\n",
    "lstm_kobin.add(keras.layers.Dense(1, activation='sigmoid'))\n",
    "\n",
    "lstm_kobin.summary()"
   ]
  },
  {
   "cell_type": "code",
   "execution_count": 31,
   "id": "216939f4",
   "metadata": {},
   "outputs": [],
   "source": [
    "# 오버피팅 없애기\n",
    "from tensorflow.keras.callbacks import EarlyStopping, ModelCheckpoint\n",
    "\n",
    "es = EarlyStopping(monitor='val_loss', mode='min', verbose=1, patience=3)\n",
    "     # validataion set의 loss를 monitoring 한다\n",
    "     # performance measuer(어떤 성능을 모니터링 할것인가?) 를 최소화 시켜야하는 training이다.\n",
    "     # verbose=1 : 언제 keras에서 training을 멈추었는지 화면에 출력\n",
    "     # patience : 성능이 더이상 증가하지 않은 epoch를 몇 번이나 허용할 것인가?\n",
    "    \n",
    "# EarlyStopping 객체에 의해 training이 중지되었을 때, validation performance가 가장 높았던 모델 선정\n",
    "mc = ModelCheckpoint('best_lstm.h5', monitor='val_loss', mode='min', save_best_only=True)"
   ]
  },
  {
   "cell_type": "code",
   "execution_count": 32,
   "id": "e29ab8de",
   "metadata": {},
   "outputs": [
    {
     "name": "stdout",
     "output_type": "stream",
     "text": [
      "Epoch 1/10\n",
      "414/414 [==============================] - 6s 10ms/step - loss: 0.5472 - accuracy: 0.6857 - val_loss: 0.3862 - val_accuracy: 0.8249\n",
      "Epoch 2/10\n",
      "414/414 [==============================] - 4s 9ms/step - loss: 0.3457 - accuracy: 0.8475 - val_loss: 0.3363 - val_accuracy: 0.8529\n",
      "Epoch 3/10\n",
      "414/414 [==============================] - 4s 9ms/step - loss: 0.2933 - accuracy: 0.8757 - val_loss: 0.3313 - val_accuracy: 0.8561\n",
      "Epoch 4/10\n",
      "414/414 [==============================] - 4s 9ms/step - loss: 0.2574 - accuracy: 0.8929 - val_loss: 0.3397 - val_accuracy: 0.8565\n",
      "Epoch 5/10\n",
      "414/414 [==============================] - 4s 9ms/step - loss: 0.2279 - accuracy: 0.9068 - val_loss: 0.3516 - val_accuracy: 0.8533\n",
      "Epoch 6/10\n",
      "414/414 [==============================] - 4s 9ms/step - loss: 0.1993 - accuracy: 0.9208 - val_loss: 0.3747 - val_accuracy: 0.8549\n",
      "Epoch 00006: early stopping\n"
     ]
    }
   ],
   "source": [
    "# 모델 학습 시작\n",
    "lstm_kobin.compile(optimizer='adam',loss='binary_crossentropy',metrics=['accuracy'])\n",
    "              \n",
    "epochs=10\n",
    "\n",
    "history = lstm_kobin.fit(partial_X_train,\n",
    "                         partial_y_train,\n",
    "                         epochs=epochs,\n",
    "                         batch_size=256,\n",
    "                         validation_data=(X_val, y_val),\n",
    "                         verbose=1,\n",
    "                         callbacks=[es,mc])"
   ]
  },
  {
   "cell_type": "code",
   "execution_count": 33,
   "id": "3ed22738",
   "metadata": {},
   "outputs": [
    {
     "name": "stdout",
     "output_type": "stream",
     "text": [
      "1532/1532 - 3s - loss: 0.3785 - accuracy: 0.8513\n",
      "[0.37850111722946167, 0.8512705564498901]\n"
     ]
    }
   ],
   "source": [
    "# test set으로 평가하기\n",
    "lstm_kobin_results = lstm_kobin.evaluate(X_test,  y_test, verbose=2)\n",
    "\n",
    "print(lstm_kobin_results)"
   ]
  },
  {
   "cell_type": "markdown",
   "id": "8298121a",
   "metadata": {},
   "source": [
    "### 1D-CNN + Kobin"
   ]
  },
  {
   "cell_type": "code",
   "execution_count": 34,
   "id": "80493d7c",
   "metadata": {},
   "outputs": [
    {
     "name": "stdout",
     "output_type": "stream",
     "text": [
      "Model: \"CNN_Kobin\"\n",
      "_________________________________________________________________\n",
      "Layer (type)                 Output Shape              Param #   \n",
      "=================================================================\n",
      "embedding_4 (Embedding)      (None, 36, 200)           2000000   \n",
      "_________________________________________________________________\n",
      "conv1d_2 (Conv1D)            (None, 34, 16)            9616      \n",
      "_________________________________________________________________\n",
      "max_pooling1d_1 (MaxPooling1 (None, 6, 16)             0         \n",
      "_________________________________________________________________\n",
      "conv1d_3 (Conv1D)            (None, 4, 16)             784       \n",
      "_________________________________________________________________\n",
      "global_max_pooling1d_2 (Glob (None, 16)                0         \n",
      "_________________________________________________________________\n",
      "dense_8 (Dense)              (None, 8)                 136       \n",
      "_________________________________________________________________\n",
      "dense_9 (Dense)              (None, 1)                 9         \n",
      "=================================================================\n",
      "Total params: 2,010,545\n",
      "Trainable params: 2,010,545\n",
      "Non-trainable params: 0\n",
      "_________________________________________________________________\n"
     ]
    }
   ],
   "source": [
    "# 1D-CNN_Kobin 설계 \n",
    "cnn_kobin = keras.Sequential(name=\"CNN_Kobin\")\n",
    "cnn_kobin.add(keras.layers.Embedding(vocab_size, \n",
    "                                     word_vector_dim, \n",
    "                                     embeddings_initializer=Constant(embedding_matrix),\n",
    "                                     input_length=maxlen, \n",
    "                                     trainable=True))\n",
    "cnn_kobin.add(keras.layers.Conv1D(16, 3, activation='relu'))\n",
    "cnn_kobin.add(keras.layers.MaxPooling1D(5))\n",
    "cnn_kobin.add(keras.layers.Conv1D(16, 3, activation='relu'))\n",
    "cnn_kobin.add(keras.layers.GlobalMaxPooling1D())\n",
    "cnn_kobin.add(keras.layers.Dense(8, activation='relu'))\n",
    "cnn_kobin.add(keras.layers.Dense(1, activation='sigmoid'))\n",
    "\n",
    "cnn_kobin.summary()"
   ]
  },
  {
   "cell_type": "code",
   "execution_count": 35,
   "id": "dcdf02fe",
   "metadata": {},
   "outputs": [
    {
     "name": "stdout",
     "output_type": "stream",
     "text": [
      "Epoch 1/10\n",
      "414/414 [==============================] - 3s 6ms/step - loss: 0.5496 - accuracy: 0.7113 - val_loss: 0.4582 - val_accuracy: 0.7873\n",
      "Epoch 2/10\n",
      "414/414 [==============================] - 2s 5ms/step - loss: 0.4049 - accuracy: 0.8170 - val_loss: 0.3940 - val_accuracy: 0.8210\n",
      "Epoch 3/10\n",
      "414/414 [==============================] - 2s 6ms/step - loss: 0.3465 - accuracy: 0.8479 - val_loss: 0.3729 - val_accuracy: 0.8318\n",
      "Epoch 4/10\n",
      "414/414 [==============================] - 2s 5ms/step - loss: 0.3112 - accuracy: 0.8669 - val_loss: 0.3685 - val_accuracy: 0.8365\n",
      "Epoch 5/10\n",
      "414/414 [==============================] - 2s 6ms/step - loss: 0.2850 - accuracy: 0.8821 - val_loss: 0.3718 - val_accuracy: 0.8387\n",
      "Epoch 6/10\n",
      "414/414 [==============================] - 2s 5ms/step - loss: 0.2616 - accuracy: 0.8935 - val_loss: 0.3839 - val_accuracy: 0.8396\n",
      "Epoch 7/10\n",
      "414/414 [==============================] - 2s 5ms/step - loss: 0.2385 - accuracy: 0.9050 - val_loss: 0.4067 - val_accuracy: 0.8347\n",
      "Epoch 00007: early stopping\n"
     ]
    }
   ],
   "source": [
    "es = EarlyStopping(monitor='val_loss', mode='min', verbose=1, patience=3)\n",
    "mc = ModelCheckpoint('best_cnn.h5', monitor='val_loss', mode='min', save_best_only=True)\n",
    "\n",
    "# 모델 학습 시작\n",
    "cnn_kobin.compile(optimizer='adam',loss='binary_crossentropy',metrics=['accuracy'])\n",
    "              \n",
    "epochs=10\n",
    "\n",
    "history = cnn_kobin.fit(partial_X_train,\n",
    "                        partial_y_train,\n",
    "                        epochs=epochs,\n",
    "                        batch_size=256,\n",
    "                        validation_data=(X_val, y_val),\n",
    "                        verbose=1,\n",
    "                        callbacks=[es,mc])"
   ]
  },
  {
   "cell_type": "markdown",
   "id": "292cb41d",
   "metadata": {},
   "source": [
    "### GlobalMaxPooling1D + Kobin"
   ]
  },
  {
   "cell_type": "code",
   "execution_count": 36,
   "id": "a3ec7217",
   "metadata": {},
   "outputs": [],
   "source": [
    "# 1GlobalMaxPooling1D_Kobin 설계 \n",
    "gmp_kobin = keras.Sequential(name=\"GlobalMaxPooling1D_Kobin\")\n",
    "gmp_kobin.add(keras.layers.Embedding(vocab_size, \n",
    "                                     word_vector_dim, \n",
    "                                     embeddings_initializer=Constant(embedding_matrix),\n",
    "                                     input_length=maxlen, \n",
    "                                     trainable=True))\n",
    "gmp_kobin.add(keras.layers.GlobalMaxPooling1D())\n",
    "gmp_kobin.add(keras.layers.Dense(8, activation='relu'))\n",
    "gmp_kobin.add(keras.layers.Dense(1, activation='sigmoid'))"
   ]
  },
  {
   "cell_type": "code",
   "execution_count": 37,
   "id": "6c58e393",
   "metadata": {},
   "outputs": [
    {
     "name": "stdout",
     "output_type": "stream",
     "text": [
      "Epoch 1/10\n",
      "414/414 [==============================] - 2s 4ms/step - loss: 0.6393 - accuracy: 0.6147 - val_loss: 0.5609 - val_accuracy: 0.7144\n",
      "Epoch 2/10\n",
      "414/414 [==============================] - 2s 4ms/step - loss: 0.5209 - accuracy: 0.7429 - val_loss: 0.5005 - val_accuracy: 0.7570\n",
      "Epoch 3/10\n",
      "414/414 [==============================] - 2s 4ms/step - loss: 0.4635 - accuracy: 0.7811 - val_loss: 0.4660 - val_accuracy: 0.7739\n",
      "Epoch 4/10\n",
      "414/414 [==============================] - 2s 4ms/step - loss: 0.4249 - accuracy: 0.8049 - val_loss: 0.4400 - val_accuracy: 0.7952\n",
      "Epoch 5/10\n",
      "414/414 [==============================] - 2s 4ms/step - loss: 0.3964 - accuracy: 0.8212 - val_loss: 0.4209 - val_accuracy: 0.8039\n",
      "Epoch 6/10\n",
      "414/414 [==============================] - 2s 4ms/step - loss: 0.3730 - accuracy: 0.8353 - val_loss: 0.4143 - val_accuracy: 0.8085\n",
      "Epoch 7/10\n",
      "414/414 [==============================] - 2s 4ms/step - loss: 0.3526 - accuracy: 0.8473 - val_loss: 0.4062 - val_accuracy: 0.8144\n",
      "Epoch 8/10\n",
      "414/414 [==============================] - 2s 4ms/step - loss: 0.3355 - accuracy: 0.8565 - val_loss: 0.4047 - val_accuracy: 0.8173\n",
      "Epoch 9/10\n",
      "414/414 [==============================] - 2s 4ms/step - loss: 0.3197 - accuracy: 0.8646 - val_loss: 0.4025 - val_accuracy: 0.8182\n",
      "Epoch 10/10\n",
      "414/414 [==============================] - 2s 4ms/step - loss: 0.3044 - accuracy: 0.8726 - val_loss: 0.4142 - val_accuracy: 0.8137\n"
     ]
    }
   ],
   "source": [
    "es = EarlyStopping(monitor='val_loss', mode='min', verbose=1, patience=3)\n",
    "mc = ModelCheckpoint('best_gmp.h5', monitor='val_loss', mode='min', save_best_only=True)\n",
    "\n",
    "# 모델 학습 시작\n",
    "gmp_kobin.compile(optimizer='adam',loss='binary_crossentropy',metrics=['accuracy'])\n",
    "              \n",
    "epochs=10\n",
    "\n",
    "history = gmp_kobin.fit(partial_X_train,\n",
    "                        partial_y_train,\n",
    "                        epochs=epochs,\n",
    "                        batch_size=256,\n",
    "                        validation_data=(X_val, y_val),\n",
    "                        verbose=1,\n",
    "                        callbacks=[es,mc])"
   ]
  },
  {
   "cell_type": "code",
   "execution_count": 38,
   "id": "d81387bd",
   "metadata": {},
   "outputs": [
    {
     "name": "stdout",
     "output_type": "stream",
     "text": [
      "LSTM_Kobin 모델의 성능\n",
      "1532/1532 - 3s - loss: 0.3785 - accuracy: 0.8513\n",
      "[0.37850111722946167, 0.8512705564498901]\n",
      "1D-CNN_kobin 모델의 성능\n",
      "1532/1532 - 3s - loss: 0.4144 - accuracy: 0.8347\n",
      "[0.414365291595459, 0.834697425365448]\n",
      "GlobalMaxPooling1D_Kobin 모델의 성능\n",
      "1532/1532 - 2s - loss: 0.4191 - accuracy: 0.8122\n",
      "[0.4190652370452881, 0.8122461438179016]\n"
     ]
    }
   ],
   "source": [
    "# LSTM_Kobin\n",
    "print(\"LSTM_Kobin 모델의 성능\")\n",
    "results_lstm = lstm_kobin.evaluate(X_test, y_test, verbose=2)\n",
    "print(results_lstm)\n",
    "\n",
    "# 1-D CNN_Kobin\n",
    "print(\"1D-CNN_Kobin 모델의 성능\")\n",
    "results_cnn = cnn_kobin.evaluate(X_test, y_test, verbose=2)\n",
    "print(results_cnn)\n",
    "\n",
    "# GlobalMaxPooling1D_Kobin\n",
    "print(\"GlobalMaxPooling1D_Kobin 모델의 성능\")\n",
    "results_gmp = gmp_kobin.evaluate(X_test, y_test, verbose=2)\n",
    "print(results_gmp)"
   ]
  },
  {
   "cell_type": "markdown",
   "id": "f99f331f",
   "metadata": {},
   "source": [
    "# 회고\n",
    "\n",
    "- 결론부터 말하면 정확도 85% 목표는 달성했다.(LSTM + Kobin)\n",
    "- 사실 기본 모델 적용시에는 생각에 LSTM이 잘 나오지 않아서 뭔가 했지만...(이 부분은 좀 다시 봐야할 듯하다.) 한국어 임베딩 후에 제일 성능이 좋아서 다행이었다.\n",
    "- 작사가 인공지능 만들기 때부터 이거저거 많이 참고해보면서 하다가 낭패를 봤지만\n",
    "- 이번에는 노드를 중심으로 조금씩 덧붙여보면서 해봤다.\n",
    "- 아직은 온전히 내 힘으로 하기는 힘들지만 좀 더 자세한 이론적, 코드적 의미를 살펴가며 정리해서 \n",
    "- 앞으로의 NLP 노드에 적용해보면 실력이 늘 것 같다.\n",
    "- 필사라는 것이 캐글 처음 공부할 때 많이 들었는데 조금씩 써보고 이해해보고 하다보면 필사도 나름의 공부법인것 같다.\n",
    "- LSTM 외에도 2가지 모델을 써서 했는데 외에도 단방향 LSTM으로 했다면 양방향 LSTM도 이전에 해봤었고 나아가서 트랜스포머류의 모델도 적용해서 해봐야겠다.(요즘은 갓 Transformer 시대니깐!)\n",
    "- 또한 한국어 word2vec을 써서 성능을 올렸는데 한국어 FastText랑도 비교를 해보고 싶어 일단 다운로드는 받아놨고 이것도 따로 적용시켜서 해봐야겠다.\n",
    "- 마지막으로 힘들어도 Keep Going!!!"
   ]
  }
 ],
 "metadata": {
  "kernelspec": {
   "display_name": "Python 3 (ipykernel)",
   "language": "python",
   "name": "python3"
  },
  "language_info": {
   "codemirror_mode": {
    "name": "ipython",
    "version": 3
   },
   "file_extension": ".py",
   "mimetype": "text/x-python",
   "name": "python",
   "nbconvert_exporter": "python",
   "pygments_lexer": "ipython3",
   "version": "3.9.7"
  }
 },
 "nbformat": 4,
 "nbformat_minor": 5
}
